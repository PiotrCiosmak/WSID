{
  "cells": [
    {
      "cell_type": "markdown",
      "metadata": {
        "id": "AMMXLENOd7V-"
      },
      "source": [
        "# Wstęp do Sztucznej Inteligencji - rok akademicki 2021/2022\n",
        "\n",
        "Przed rozpoczęciem pracy z notatnikiem zmień jego nazwę zgodnie z wzorem: `NrAlbumu_Nazwisko_Imie_PoprzedniaNazwa`.\n",
        "\n",
        "Przed wysłaniem notatnika upewnij się, że rozwiązałeś wszystkie zadania/ćwiczenia."
      ]
    },
    {
      "cell_type": "markdown",
      "metadata": {
        "id": "4ZZF68t-kiQ8"
      },
      "source": [
        "# Temat: Wnioskowanie oparte na wiedzy niepewnej. Wnioskowanie bayesowskie\n",
        "Zapoznaj się z treścią niniejszego notatnika czytając i wykonując go komórka po komórce. Wykonaj napotkane zadania/ćwiczenia."
      ]
    },
    {
      "cell_type": "markdown",
      "metadata": {
        "id": "9B7YUblnktrz"
      },
      "source": [
        "## Zadanie 1  (obowiązkowe, 5pkt.)\n",
        "Zapożyczone z ćwiczeń do wykładu [Arabas, Cichosz](http://wazniak.mimuw.edu.pl/index.php?title=Sztuczna_inteligencja/SI_%C4%86wiczenia_4)\n",
        "\n",
        "### Zamodeluj i odpowiedz na pytania.\n",
        "\n",
        "W śledztwie dotyczącym zabójstwa inspektor Bayes rozważa dwie hipotezy:\n",
        "\n",
        "- $H_1$ główny podejrzany zabił,\n",
        "- $H_2$ główny podejrzany nie zabił, \n",
        "\n",
        "oraz następujące możliwe fakty:\n",
        "\n",
        "- $E_1$ na miejscu zbrodni znaleziono odciski palców głównego podejrzanego,\n",
        "- $E_2$ główny podejrzany nie ma alibi na czas popełnienia zabójstwa,\n",
        "- $E_3$ główny podejrzany miał motyw zabicia ofiary,\n",
        "- $E_4$ główny podejrzany był widziany w sądziedztwie miejsca, w którym mieszka nielegalny handlarz bronią,\n",
        "- $E_5$ świadek zbrodni podał rysopis zabójcy nie pasujący do głównego podejrzanego. \n",
        "\n",
        "Zależności między takimi faktami a hipotezami opisują następujące prawdopodobieństwa:\n",
        "\n",
        "$P(E_1|H_1)=0.7,\\qquad P(E_1|H_2)=0.3,$\n",
        "\n",
        "$P(E_2|H_1)=0.8,\\qquad P(E_2|H_2)=0.4,$\n",
        "\n",
        "$P(E_3|H_1)=0.9,\\qquad P(E_3|H_2)=0.5,$\n",
        "\n",
        "$P(E_4|H_1)=0.4,\\qquad P(E_4|H_2)=0.2,$\n",
        "\n",
        "$P(E_5|H_1)=0.2,\\qquad P(E_5|H_2)=0.4.$ \n",
        "\n",
        "__W którym przypadku prawdopodobieństwo popełnienia zabójstwa byłoby największe?__\n",
        "\n",
        "1. Gdyby znaleziono na miejscu zbrodni jego odciski palców.\n",
        "2. Gdyby stwierdzono, że nie miał alibi i miał motyw.\n",
        "3. Gdyby znaleziono na miejscu zbrodni jego odciski palców oraz stwierdzono, że był widziany w sąsiedztwie miejsca, w którym mieszka nielegalny handlarz bronią, ale świadek zbrodni podał rysopis zabójcy nie pasujący do głównego podejrzanego."
      ]
    },
    {
      "cell_type": "markdown",
      "metadata": {
        "id": "_WeSA3oZsqwD"
      },
      "source": [
        "### TWÓJ PROGRAM:"
      ]
    },
    {
      "cell_type": "code",
      "execution_count": null,
      "metadata": {
        "id": "HbbAmNT8sqE1",
        "colab": {
          "base_uri": "https://localhost:8080/"
        },
        "outputId": "a5a7ffbf-cd9c-4cd7-fe63-65786e204c90"
      },
      "outputs": [
        {
          "output_type": "stream",
          "name": "stdout",
          "text": [
            "1.  0.7\n",
            "2.  0.7826086956521738\n",
            "3.  0.7000000000000001\n"
          ]
        }
      ],
      "source": [
        "p_H1 = 0.5\n",
        "p_H2 = 0.5\n",
        "p_E1_H1 = 0.7\n",
        "p_E2_H1 = 0.8\n",
        "p_E3_H1 = 0.9\n",
        "p_E4_H1 = 0.4\n",
        "p_E5_H1 = 0.2\n",
        "\n",
        "p_E1_H2 = 0.3\n",
        "p_E2_H2 = 0.4\n",
        "p_E3_H2 = 0.5\n",
        "p_E4_H2 = 0.2\n",
        "p_E5_H2 = 0.4\n",
        "\n",
        "p_E1 = p_H1*p_E1_H1+p_H2*p_E1_H2\n",
        "p_E2 = p_H1*p_E2_H1+p_H2*p_E2_H2\n",
        "p_E3 = p_H1*p_E3_H1+p_H2*p_E3_H2\n",
        "p_E4 = p_H1*p_E4_H1+p_H2*p_E4_H2\n",
        "p_E5 = p_H1*p_E5_H1+p_H2*p_E5_H2\n",
        "\n",
        "p_H1_E1 = (p_H1 * p_E1_H1) / p_E1\n",
        "print(\"1. \", p_H1_E1)\n",
        "\n",
        "p_H1_E2_E3 = (p_E2_H1 * p_E3_H1 * p_H1) / (p_E2_H1 * p_E3_H1 * p_H1 + p_E2_H2 * p_E3_H2 * p_H2)\n",
        "print(\"2. \", p_H1_E2_E3)\n",
        "\n",
        "p_H1_E1_E4_E5 = (p_E1_H1 * p_E4_H1 * p_E5_H1 * p_H1) / (p_E1_H1 * p_E4_H1 * p_E5_H1 * p_H1 + p_E1_H2 * p_E4_H2 * p_E5_H2 * p_H2)\n",
        "print(\"3. \", p_H1_E1_E4_E5)"
      ]
    },
    {
      "cell_type": "markdown",
      "metadata": {
        "id": "OJCwrDffiEd9"
      },
      "source": [
        "### ODPOWIEDŹ:"
      ]
    },
    {
      "cell_type": "markdown",
      "metadata": {
        "id": "8Sry3tq8tLpk"
      },
      "source": [
        "2. Gdyby stwierdzono, że nie miał alibi i miał motyw."
      ]
    },
    {
      "cell_type": "markdown",
      "metadata": {
        "id": "aTJLCU6KiT-T"
      },
      "source": [
        "## Zadanie 2  (obowiązkowe, 5pkt.)\n",
        "\n",
        "### Zamodeluj i odpowiedz na pytania.\n",
        "System alarmowy w mieszkaniu, reaguje na włamania oraz, niestety, również na drobne trzęsienia (ziemi). Sąsiedzi John i Mary są umówieni, żeby zadzwonić do właściciela gdy usłyszą alarm. John jest nadgorliwy i bierze różne zdarzenia (np. dzwonek telefonu) za sygnał alarmowy (i wtedy zawsze dzwoni). Mary rozpoznaje alarm poprawnie, lecz często słucha głośnej muzyki i może go w ogóle nie usłyszeć. \n",
        "\n",
        "Sieć przekonań dla systemu alarmowego wygląda następująco:\n",
        "![bsiec.PNG](http://torus.uck.pk.edu.pl/~amarsz/images/bsiec.PNG)\n",
        "\n",
        "__Jakie jest prawdopodobieństwo, że:__\n",
        "1. włączy się alarm?\n",
        "2. doszło do włamanie jeśli wiadom, że włączył się alarm?\n",
        "3. zdarzyło się trzęsienie ziemi jeśli wiadomo, żę włączył się alarm?\n",
        "1. w razie włamania ktoś zadzwoni?\n",
        "2. zawiadomienie o włamaniu jest fałszywe?\n",
        "3. rozległ się alarm, przy czym nie wystąpiło ani trzęsienie ziemi ani włamanie, ale oboje John i Mary zadzwonili? (prawd. bezwarunkowe)"
      ]
    },
    {
      "cell_type": "markdown",
      "metadata": {
        "id": "ZiHzVQYYibOS"
      },
      "source": [
        "TWÓJ PROGRAM:"
      ]
    },
    {
      "cell_type": "code",
      "execution_count": 2,
      "metadata": {
        "id": "yXixd4Rotaq9",
        "colab": {
          "base_uri": "https://localhost:8080/",
          "height": 211
        },
        "outputId": "bf1942a2-d6f9-400a-b115-a108c245a2ae"
      },
      "outputs": [
        {
          "output_type": "stream",
          "name": "stderr",
          "text": [
            "Sequential sampling (1 chains in 1 job)\n",
            "BinaryGibbsMetropolis: [earthquake, burglary, alarm, johnCalls, maryCalls]\n"
          ]
        },
        {
          "output_type": "display_data",
          "data": {
            "text/plain": [
              "<IPython.core.display.HTML object>"
            ],
            "text/html": [
              "\n",
              "<style>\n",
              "    /* Turns off some styling */\n",
              "    progress {\n",
              "        /* gets rid of default border in Firefox and Opera. */\n",
              "        border: none;\n",
              "        /* Needs to be in here for Safari polyfill so background images work as expected. */\n",
              "        background-size: auto;\n",
              "    }\n",
              "    .progress-bar-interrupted, .progress-bar-interrupted::-webkit-progress-bar {\n",
              "        background: #F44336;\n",
              "    }\n",
              "</style>\n"
            ]
          },
          "metadata": {}
        },
        {
          "output_type": "display_data",
          "data": {
            "text/plain": [
              "<IPython.core.display.HTML object>"
            ],
            "text/html": [
              "\n",
              "    <div>\n",
              "      <progress value='101000' class='' max='101000' style='width:300px; height:20px; vertical-align: middle;'></progress>\n",
              "      100.00% [101000/101000 00:53<00:00 Sampling chain 0, 0 divergences]\n",
              "    </div>\n",
              "    "
            ]
          },
          "metadata": {}
        },
        {
          "output_type": "stream",
          "name": "stderr",
          "text": [
            "Sampling 1 chain for 1_000 tune and 100_000 draw iterations (1_000 + 100_000 draws total) took 53 seconds.\n",
            "Only one chain was sampled, this makes it impossible to run some convergence checks\n"
          ]
        },
        {
          "output_type": "stream",
          "name": "stdout",
          "text": [
            "1.  0.00287\n",
            "2.  0.3310104529616725\n",
            "3.  0.26480836236933797\n",
            "4.  0.25301204819277107\n",
            "5.  0.99895\n",
            "6.  0.00194\n"
          ]
        }
      ],
      "source": [
        "import pymc3 as pm\n",
        "import arviz as az\n",
        "import numpy as np\n",
        "\n",
        "with pm.Model() as model:\n",
        "    earthquake = pm.Bernoulli('earthquake', 0.002)\n",
        "    burglary = pm.Bernoulli('burglary', 0.001)\n",
        "    alarm_p = pm.Deterministic('alarm_p', pm.math.switch(earthquake,pm.math.switch(burglary, 0.95, 0.29), pm.math.switch(burglary, 0.94, 0.001)))\n",
        "    alarm = pm.Bernoulli('alarm', alarm_p)\n",
        "    johnCalls_p = pm.Deterministic('johnCalls_p', pm.math.switch(alarm, 0.9, 0.05))\n",
        "    johnCalls = pm.Bernoulli('johnCalls', johnCalls_p)\n",
        "    maryCalls_p = pm.Deterministic('maryCalls_p', pm.math.switch(alarm, 0.7, 0.01))\n",
        "    maryCalls = pm.Bernoulli('maryCalls', maryCalls_p)\n",
        "\n",
        "    trace = pm.sample(100000, chains=1, return_inferencedata=True)\n",
        "\n",
        "\n",
        "p_alarm_on = trace.posterior['alarm'].values[0].sum()/len(trace.posterior['alarm'].values[0])\n",
        "print(\"1. \", p_alarm_on)\n",
        "\n",
        "p_burglary_alarm_on = (trace.posterior['burglary'].values[0]*trace.posterior['alarm'].values[0]).sum()/trace.posterior['alarm'].values[0].sum()\n",
        "print(\"2. \", p_burglary_alarm_on)\n",
        "\n",
        "p_earthquake_alarm_on = (trace.posterior['earthquake'].values[0]*trace.posterior['alarm'].values[0]).sum()/trace.posterior['alarm'].values[0].sum()\n",
        "print(\"3. \", p_earthquake_alarm_on)\n",
        "\n",
        "p_burglary_true_call = (trace.posterior['burglary'].values[0] * trace.posterior['johnCalls'].values[0] * trace.posterior['maryCalls'].values[0]).sum() / (trace.posterior['johnCalls'].values[0] * trace.posterior['maryCalls'].values[0]).sum()\n",
        "print(\"4. \", p_burglary_true_call)\n",
        "\n",
        "p_burglary_false_call = np.logical_not(trace.posterior['burglary'].values[0]).sum()/len(np.logical_not(trace.posterior['burglary'].values[0]))\n",
        "print(\"5. \", p_burglary_false_call)\n",
        "\n",
        "p_alarm_and_both_call = (trace.posterior['alarm'].values[0] * trace.posterior['johnCalls'].values[0] * trace.posterior['maryCalls'].values[0]).sum() / len(trace.posterior['alarm'].values[0])\n",
        "print(\"6. \",p_alarm_and_both_call)"
      ]
    },
    {
      "cell_type": "markdown",
      "metadata": {
        "id": "QKWpMlq9iz-A"
      },
      "source": [
        "### ODPOWIEDŹ:"
      ]
    },
    {
      "cell_type": "markdown",
      "metadata": {
        "id": "D4QnaFVYi8bw"
      },
      "source": [
        "1.  0.00287\n",
        "2.  0.3310104529616725\n",
        "3.  0.26480836236933797\n",
        "4.  0.25301204819277107\n",
        "5.  0.99895\n",
        "6.  0.00194 #tego nie jestm pewnien czy jest dobrze"
      ]
    },
    {
      "cell_type": "markdown",
      "metadata": {
        "id": "cZrTqu_LC5p_"
      },
      "source": [
        "__UWAGA:__ Zwróć uwagę na wielkości podanych prawdopodobieńst aby dobarć odpowiednią liczbę symulacji."
      ]
    },
    {
      "cell_type": "markdown",
      "metadata": {
        "id": "C57dALyNj4Se"
      },
      "source": [
        "&copy; Katedra Informatyki, Politechnika Krakowska"
      ]
    }
  ],
  "metadata": {
    "colab": {
      "collapsed_sections": [],
      "name": "138051_Ciosmak_Piotr_Bayess_Zadania.ipynb",
      "provenance": []
    },
    "kernelspec": {
      "display_name": "Python 3 (ipykernel)",
      "language": "python",
      "name": "python3"
    },
    "language_info": {
      "codemirror_mode": {
        "name": "ipython",
        "version": 3
      },
      "file_extension": ".py",
      "mimetype": "text/x-python",
      "name": "python",
      "nbconvert_exporter": "python",
      "pygments_lexer": "ipython3",
      "version": "3.9.7"
    }
  },
  "nbformat": 4,
  "nbformat_minor": 0
}