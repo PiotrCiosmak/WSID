{
 "cells": [
  {
   "cell_type": "markdown",
   "metadata": {
    "id": "AMMXLENOd7V-"
   },
   "source": [
    "# Wstęp do Sztucznej Inteligencji - rok akademicki 2021/2022\n",
    "\n",
    "Przed rozpoczęciem pracy z notatnikiem zmień jego nazwę zgodnie z wzorem: `NrAlbumu_Nazwisko_Imie_PoprzedniaNazwa`.\n",
    "\n",
    "Przed wysłaniem notatnika upewnij się, że rozwiązałeś wszystkie zadania/ćwiczenia."
   ]
  },
  {
   "cell_type": "markdown",
   "metadata": {
    "id": "4ZZF68t-kiQ8"
   },
   "source": [
    "# Temat: Optymalizacja globalna: Prosty algorytm genetyczny cz. II\n",
    "Głownym celem zajęć poświęconych alorytmom genetycznym jest stworzenie od podstaw (implentacja) prostego algorytmu genetycznego i późniejsze wykorzystanie go do rozwiązania przykładowych zadań optymalizacji globalnej.\n",
    "\n",
    "W tym notatniku będą Państwo mieli za zadanie zaimplementować trzy operatory genetyczne (trzy funkcje) wykonywane w głównej pętli algorytmu genetycznego. \n",
    "\n",
    "__Ważne:__ Wszystkie te funkcja wykonywane będą w każdej iteracji algorytmu należy zatem zadbać o to aby było ona zaimplementowana w sposób wydajny."
   ]
  },
  {
   "cell_type": "markdown",
   "metadata": {
    "id": "cwgxhLoJ1uGq"
   },
   "source": [
    "## Import biblioteki numpy\n",
    "Wszystkie funkcje należy tworzyć z wykorzystaniem biblioteki `numpy`."
   ]
  },
  {
   "cell_type": "code",
   "execution_count": 66,
   "metadata": {
    "id": "5Ay9yE_f17t_"
   },
   "outputs": [],
   "source": [
    "import numpy as np\n",
    "import random"
   ]
  },
  {
   "cell_type": "markdown",
   "metadata": {
    "id": "xTpCaibN1Ccp"
   },
   "source": [
    "## Przykładowa funkcja celu\n",
    "Zadanie optymalizacji w wielu przypadakach sproawadza się optymalizacji odpowiednio sformułowanej funkcj, tzw. funkcji celu. Poniżej przykładowa prosta funkcja umożliwiająca testowanie zaimplemetowanych funkcji.  "
   ]
  },
  {
   "cell_type": "code",
   "execution_count": 67,
   "metadata": {
    "id": "MDoK-uWZhhD7"
   },
   "outputs": [],
   "source": [
    "# testowa funkcja celu\n",
    "# x - jednowymiarowa tablica ndarray\n",
    "def obj_func(x):\n",
    "    return (x**2).sum()"
   ]
  },
  {
   "cell_type": "markdown",
   "metadata": {
    "id": "rx6b2MiJ2tig"
   },
   "source": [
    "Przykład wywołania.\n",
    "\n",
    "Wektor `x` to tak zwany osobnik, czyli jedno z możliwych (dopuszczalnych) rozwiązań.  "
   ]
  },
  {
   "cell_type": "code",
   "execution_count": 68,
   "metadata": {
    "id": "jMNPVnxKmRsa"
   },
   "outputs": [
    {
     "name": "stdout",
     "output_type": "stream",
     "text": [
      "14.86\n"
     ]
    }
   ],
   "source": [
    "# przykład wywołania\n",
    "x = np.array([1.2, 0.1, 3, 2.1])\n",
    "print(obj_func(x))"
   ]
  },
  {
   "cell_type": "markdown",
   "metadata": {
    "id": "9B7YUblnktrz"
   },
   "source": [
    "## Selekcja: Metoda koła ruletki\n",
    "Metoda ruletki (koła ruletki)– jedna z najbardziej podstawowych metod selekcji. Polega na utworzeniu koła ruletki z polami odpowiadającymi poszczególnym osobnikom. Wielkość pól jest proporcjonalna do wartości funkcji przystosowania (celu). Proces selekcji oparty jest na obrocie ruletką tyle razy ile osobników jest w populacji i na wyborze za każdym razem jednego osobnika do nowej populacji. Pewne osobniki są wybierane więcej niż jeden raz, niektóre dokładnie raz, a niektóre wcale.\n",
    "\n",
    "Koło ruletki w praktyce:\n",
    "- Koło zestępujemy odcinkiem $[0,1]$, który dzielimy na tyle podprzedziałów ile osobników w populacji.\n",
    "- Rozmiar każdego podprzedziału jest proporcjonalny do wartość funkcji celu danego osobnika, tzn. im większa wartość funkcji celu tym odcinek powinnien być większy. Ponieważ cały odcinek ma długośc 1 to rozmiary podprzedziałów można utożsamoć z prawdopodobieństwe przejścia osobnika do nowej populacji i policzyć ze wzoru $p_i= \\frac{e_i}{\\sum_i{e_i}}$, gdzie $i$ to numer osobnika, a $e_i$ to wartość funkcji celu $i$-tego osobnika.\n",
    "- Zamiast kręcić kołem, losujemy liczbę z przedziału $[0,1]$ i sprawdzamy w którym podprzedziale się ona zawiera i osobnika o numerze zgodnym z numerem tego podprzedziału wybieramy do nowej populacji.  \n",
    "\n",
    "Warto zwrócić na fakt, że tak zaproponowany wzór na długości przedziałów $p_i$ zadziała tylko wtedy gdy wszystkie wartości funkcji celu będą dodatnie. Aby to zapewnić wystarczy na początku do wektora wartości funkcji celu dodać odpowiednią stałą zapewniającą dodatniość (lub przynajmniej nieujemność) wszystkich elementów.\n",
    "\n"
   ]
  },
  {
   "cell_type": "markdown",
   "metadata": {
    "id": "5xPZCNLQ2zKO"
   },
   "source": [
    "### Zadanie 1:\n",
    "Zaimplementuj operator selekcji. Selekcja metodą koła ruletki.\n",
    "\n",
    "Argumenty funkcji:\n",
    "- `pop` - populacja zakodowanych osobników, tablica `ndarray`.\n",
    "- `evaluated_pop` - tablica `ndarray` ocen osobników.\n",
    "- `new_pop` - nowa populacja wybranych osobników (zakodowanych), tablica `ndarray`."
   ]
  },
  {
   "cell_type": "code",
   "execution_count": 69,
   "metadata": {
    "id": "roJLXMvG4Dgx"
   },
   "outputs": [
    {
     "data": {
      "text/plain": [
       "array([[0., 1., 0., 0., 0., 0., 1., 0., 0., 1.],\n",
       "       [0., 1., 0., 0., 0., 0., 1., 0., 0., 1.]])"
      ]
     },
     "execution_count": 69,
     "metadata": {},
     "output_type": "execute_result"
    }
   ],
   "source": [
    "def roulette(pop, evaluated_pop):\n",
    "    minimum = evaluated_pop.min()\n",
    "    if(minimum < 0):\n",
    "        absMinimum = abs(minimum)\n",
    "        for i in range(evaluated_pop.size):\n",
    "            evaluated_pop[i] += absMinimum\n",
    "    evaluatedPopSum = 0\n",
    "    for element in evaluated_pop:\n",
    "        evaluatedPopSum += element\n",
    "    \n",
    "    probability = np.ndarray(shape=(evaluated_pop.size))\n",
    "    \n",
    "    for (index, element) in zip(range(0, evaluated_pop.size), evaluated_pop):\n",
    "        probability[index] = element/evaluatedPopSum\n",
    "    \n",
    "    distributor = np.ndarray(shape=(probability.size))\n",
    "    distributor[0] = probability[0]\n",
    "    for i in range(1, distributor.size):\n",
    "        distributor[i] = distributor[i-1] + probability[i]\n",
    "    \n",
    "    new_pop = np.ndarray(shape=(pop.size//pop[0].size,pop[0].size))\n",
    "    for i in range(0, pop.size//pop[0].size,pop[0].size):\n",
    "        randomNumber = np.random.rand()\n",
    "        for j in range(0, evaluated_pop.size):\n",
    "            if distributor[j] > randomNumber:\n",
    "                new_pop[i] = pop[j]\n",
    "                break\n",
    "        \n",
    "    return new_pop\n",
    "#\n",
    "pop = np.array([[0, 0, 1, 1, 1, 1, 0, 0, 0, 0],[0, 1, 0, 0, 0, 0, 1, 0, 0, 1]])\n",
    "epop = np.array([0.30176899, 0.40998959])\n",
    "roulette(pop, epop)"
   ]
  },
  {
   "cell_type": "markdown",
   "metadata": {
    "id": "VWilOQkE_yA8"
   },
   "source": [
    "## Krzyżowanie\n",
    "Operacja krzyżowania polega na wymianie fragmentów łańcuchów dwóch osobników rodzicielskich. Krzyżowanie jest kluczowym operatorem w algorytmach genetycznych, stanowiącym o ich sile i efektywności.\n",
    "\n",
    "Ideą operatorów krzyżowania jest wymiana kodu genetycznego pomiędzy osobnikami, tak jak to się dzieje w naturze. Stworzono wiele teorii i rodzajów krzyżowań, które stosowane są do różnych rodzajów zadań i są zależne od sposobu kodowania. Dla potrzeb klasycznego algorytmu genetycznego opisano operator krzyżowania jednopunktowego. \n",
    "\n",
    "Krzyżowanie jednopunktowe – krzyżowanie zachodzi z pewnym prawdopodobieństwem `pk`; dla każdego osobnika losuje się liczbę i sprawdza, czy zachodzi krzyżowanie. Następnie dobiera się wybrane osobniki losowo w pary. Losuje się liczbę określającą miejsce krzyżowania i wymienia kod.\n",
    "\n",
    "Podpowiedź: w praktyce krzyżowanie to można zaimplementować na dwa sposoby.\n",
    "\n",
    "Sposób 1. Mając tablicę `pop` z parzystą liczbą osobników jako wiersze, dla każdych kolejnych dwóch wierszy wylosuj liczbę losową z przedziału `[0,1]`. Jeśli jest ona mniejsza niż prawdopodobieństwo krzyżowania, skrzyżuj osobniki i oboje potomków umieść w populacji wynikowej. Jeśli wartość losowa jest większa niż prawdopodobieństwo krzyżowania, skopiuj oboje rodziców do populacji wynikowej. \n",
    "\n",
    "Sposób 2. Mając tablicę `pop` z dowolną (niekoniecznie parzystą) liczbą osobników jako wiersze, dla każdego wiersza wylosuj liczbę losową z przedziału `[0,1]`. Jeśli jest ona mniejsza niż prawdopodobieństwo krzyżowania, skrzyżuj osobnika z osobnikiem w następnym wierszu i dowolnego z potomków (jednego!) umieść w populacji wynikowej. Jeśli wartość losowa jest większa niż prawdopodobieństwo krzyżowania, skopiuj aktualny wiersz do populacji wynikowej. Uwaga: ostatni wiersz krzyżowany jest z pierwszym (następnym w sensie \"modulo\").\n",
    "\n",
    "![krzyzowanie.PNG](http://torus.uck.pk.edu.pl/~amarsz/images/krzyzowanie.PNG)\n",
    "\n",
    "\n"
   ]
  },
  {
   "cell_type": "markdown",
   "metadata": {
    "id": "lFD4AIrBffbv"
   },
   "source": [
    "### Zadanie 2\n",
    "Zaimplementuj operator krzyżowania. Krzyżowanie jedno-punktowe.\n",
    "\n",
    "Argumenty funkcji:\n",
    "- `pop` - populacja zakodowanych osobników, tablica `ndarray`.\n",
    "- `pk` - prawdopodobieństwo krzyżowania dla pary osobników. Liczba rzeczywista z przedziału $[0,1]$.\n",
    "- `new_pop` - nowa populacja osobników po krzyżowaniu (zakodowanych), tablica `ndarray`."
   ]
  },
  {
   "cell_type": "code",
   "execution_count": 70,
   "metadata": {
    "id": "wiUvCib9A6cc"
   },
   "outputs": [
    {
     "data": {
      "text/plain": [
       "array([[0., 1., 0., 0., 0., 0., 1., 0., 0., 1.],\n",
       "       [0., 1., 0., 0., 0., 0., 1., 0., 0., 1.]])"
      ]
     },
     "execution_count": 70,
     "metadata": {},
     "output_type": "execute_result"
    }
   ],
   "source": [
    "def cross(pop, pk):\n",
    "    numberOfIndividuals = pop.size//pop[0].size\n",
    "    new_pop = np.ndarray(shape=(numberOfIndividuals,pop[0].size))\n",
    "    for i in range(numberOfIndividuals):\n",
    "        if(np.random.rand() < pk):\n",
    "            randomInt = random.randint(1, pop[0].size-1)\n",
    "            new_pop[i] = np.concatenate((pop[i][:randomInt], pop[(i+1)%numberOfIndividuals][randomInt:]),axis = None)\n",
    "        else:\n",
    "            new_pop[i] = pop[i]\n",
    "    return new_pop\n",
    "#\n",
    "pop = np.array([[0, 0, 1, 1, 1, 1, 0, 0, 0, 0],[0, 1, 0, 0, 0, 0, 1, 0, 0, 1]])\n",
    "cross(pop, 0.5)"
   ]
  },
  {
   "cell_type": "markdown",
   "metadata": {
    "id": "l_vcZLlxh19H"
   },
   "source": [
    "## Mutacja\n",
    "Mutacja polega na wprowadzeniu do istniejących, zakodowanych osobników, pewnych losowych zmian. Mutacja tworzy nowego osobnika na bazie jednego i tylko jednego rodzica. Jest wiele metod tworzenia nowych osobników za pomocą operatora mutacji.\n",
    "\n",
    "Podstawową formę mutacji można zapisać następująco:\n",
    "$$x'= m(x)$$\n",
    "gdzie: $x$ jest osobnikiem rodzica, $m$ funkcją mutacji, $x'$ to potomek, osobnik zmutowany.\n",
    "\n",
    "Mutacja również zachodzi z pewnym zadanym prawdopodobieństwem `pm`. Można ją zaimplementować na dwa sposoby.\n",
    "\n",
    "Sposób 1. Dla każdego osobnika losuje się liczbę sprawdzając czy będzie on podlegał mutacji. Jeśli tak to losuje się gen, który będzie zmutowany i dokonuje się mutacji (tu: negacja bitu). \n",
    "\n",
    "Sposób 2. Dla danego osobnika, dla każdego genu (bitu) osobno losuje się liczbę sprawdzającą czy będzie podlegał mutacji. Jeśli tak, dokonuje się jego mutacji (u nas: negacja bitu).\n",
    "\n",
    "Mutacja w klasycznym algorytmie genetycznym odgrywa drugorzędną rolę. Częstość mutacji potrzebna do uzyskania dobrych wyników w empirycznych badaniach nad algorytmami genetycznymi jest rzędu jeden do tysiąca skopiowanych bitów. W naturalnych populacjach częstość jest równie mała lub nawet mniejsza. \n",
    "\n",
    "W przypadku osobników zakodowanych binarnie (klasyczny algorytm genetyczny) nie ma problemu ze stosowaniem mutacji (po prostu zamieniamy wartość genu na przeciwny). "
   ]
  },
  {
   "cell_type": "markdown",
   "metadata": {
    "id": "l-OhAVorh9ow"
   },
   "source": [
    "### Zadanie 3\n",
    "Zaimplementuj operator mutacji. Mutacja bitowa.\n",
    "\n",
    "Argumenty funkcji:\n",
    "- `pop` - populacja zakodowanych osobników, tablica `ndarray`.\n",
    "- `pm` prawdopodobieństwo mutacji dla pojedynczego bitu. Liczba rzeczywista z przedziału $[0,1]$.\n",
    "- `new_pop` - nowa populacja osobników po mutacji (zakodowanych), tablica `ndarray`."
   ]
  },
  {
   "cell_type": "code",
   "execution_count": 71,
   "metadata": {
    "id": "kbBHd2HOEB5P"
   },
   "outputs": [
    {
     "data": {
      "text/plain": [
       "array([[0., 0., 1., 1., 1., 1., 0., 0., 0., 0.],\n",
       "       [0., 1., 0., 0., 0., 0., 1., 0., 0., 1.]])"
      ]
     },
     "execution_count": 71,
     "metadata": {},
     "output_type": "execute_result"
    }
   ],
   "source": [
    "def mutate(pop, pm):\n",
    "    numberOfIndividuals = pop.size//pop[0].size\n",
    "    new_pop = np.ndarray(shape=(numberOfIndividuals,pop[0].size))\n",
    "    for i in range(numberOfIndividuals):\n",
    "        for j in range(pop[i].size):\n",
    "            randomNumber = np.random.rand()\n",
    "            if(randomNumber <= pm):\n",
    "                if(pop[i][j] == 0):\n",
    "                    new_pop[i][j] = 1\n",
    "                else:\n",
    "                    new_pop[i][j] = 0\n",
    "            else:\n",
    "                new_pop[i][j]=pop[i][j]\n",
    "    return new_pop\n",
    "#\n",
    "pop = np.array([[0, 0, 1, 1, 1, 1, 0, 0, 0, 0],[0, 1, 0, 0, 0, 0, 1, 0, 0, 1]])\n",
    "mutate(pop, 0.001)"
   ]
  },
  {
   "cell_type": "markdown",
   "metadata": {
    "id": "C57dALyNj4Se"
   },
   "source": [
    "&copy; Katedra Informatyki, Politechnika Krakowska"
   ]
  }
 ],
 "metadata": {
  "colab": {
   "collapsed_sections": [],
   "name": "Gen_Lab_2.ipynb",
   "provenance": []
  },
  "kernelspec": {
   "display_name": "Python 3 (ipykernel)",
   "language": "python",
   "name": "python3"
  },
  "language_info": {
   "codemirror_mode": {
    "name": "ipython",
    "version": 3
   },
   "file_extension": ".py",
   "mimetype": "text/x-python",
   "name": "python",
   "nbconvert_exporter": "python",
   "pygments_lexer": "ipython3",
   "version": "3.9.7"
  }
 },
 "nbformat": 4,
 "nbformat_minor": 1
}
