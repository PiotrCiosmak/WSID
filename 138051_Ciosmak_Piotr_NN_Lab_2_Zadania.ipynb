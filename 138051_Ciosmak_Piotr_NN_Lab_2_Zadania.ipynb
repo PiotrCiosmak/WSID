{
 "cells": [
  {
   "cell_type": "markdown",
   "metadata": {
    "id": "AMMXLENOd7V-"
   },
   "source": [
    "# Wstęp do Sztucznej Inteligencji - rok akademicki 2021/2022\n",
    "\n",
    "Przed rozpoczęciem pracy z notatnikiem zmień jego nazwę zgodnie z wzorem: `NrAlbumu_Nazwisko_Imie_PoprzedniaNazwa`.\n",
    "\n",
    "Przed wysłaniem notatnika upewnij się, że rozwiązałeś wszystkie zadania/ćwiczenia."
   ]
  },
  {
   "cell_type": "markdown",
   "metadata": {
    "id": "4ZZF68t-kiQ8"
   },
   "source": [
    "# Temat: Sztuczne Sieci Neuronowe - Lab 2 - Zadania (obowiązkowe)"
   ]
  },
  {
   "cell_type": "markdown",
   "metadata": {
    "id": "cwgxhLoJ1uGq"
   },
   "source": [
    "## Wielowarstwowe sieci jednokierunkowe\n",
    "Cechą charakterystyczną sieci jednokierunkowych wielowarstwowych jest występowanie, co najmniej jednej warstwy ukrytej neuronów, która pośredniczy w przekazywaniu sygnałów między węzłami w warstwie wejściowej, a warstwą wyjściową."
   ]
  },
  {
   "cell_type": "markdown",
   "metadata": {
    "id": "xTpCaibN1Ccp"
   },
   "source": [
    "### Architektura\n",
    "![MLPnet.gif](http://torus.uck.pk.edu.pl/~amarsz/images/MLPnet.gif)\n",
    "- Sygnały wejściowe podawane są na pierwszą warstwę ukrytą neuronów, a te z kolei stanowią sygnały źródłowe dla kolejnej warstwy itd. aż do warstwy wyjściowej.\n",
    "- W sieci tej występują zazwyczaj pełne połączenia między warstwami tzn. każdy neuron następnej warstwy jest połączony z każdym neuronem warstwy poprzedniej. \n",
    "- Neurony warstw ukrytych stanowią bardzo istotny element sieci, umożliwiający uwzględnienie związków między sygnałami, wynikającymi z zależności statystycznych wyższego rzędu."
   ]
  },
  {
   "cell_type": "markdown",
   "metadata": {
    "id": "rx6b2MiJ2tig"
   },
   "source": [
    "### Uczenie\n",
    "Uczenie sieci MLP odbywa się zwykle z nauczycielem, a najpopularniejszą metodą uczenia jest algorytm wstecznej propagacji błędu. Algorytm wstecznej propagacji - BackPropagation (BP) określa strategię doboru wag w sieci wielowarstwowej przy wykorzystaniu gradientowych metod optymalizacji. Podczas procesu uczenia sieci dokonuje się prezentacji pewnej ilości zestawów uczących (tzn. wektorów wejściowych oraz odpowiadających im wektorów sygnałów wzorcowych (wyjściowych)). Uczenie polega na takim doborze wag neuronów by w efekcie końcowy błąd popełniany przez sieć był mniejszy od zadanego."
   ]
  },
  {
   "cell_type": "markdown",
   "metadata": {
    "id": "9B7YUblnktrz"
   },
   "source": [
    "## Ciągłe funkcje aktywacji. Neurony sigmoidalne.\n",
    "Wykorzystując do uczenia algorytm wstecznej propagacji błędu należy obliczyć pochodne cząstkowe względem wag, co zmusza nas do stosowanie ciągłych (różniczkowalnych) funkcji aktywacji. Najczęściej stosowane są wówczas _neurony sigmoidalne_, których budowa jest prawie taka sama jak perceptronu z tą różnicą, że zamiast progowej funkcji aktywacji wykorzystuje sie ciągłe funkcje sigmoidalne (unipolarną lub bipolarną).\n",
    "\n",
    "Funkcje sigmoidalne odpowiednio unipolarna i bipolarna:\n",
    "\n",
    "![sigmoidalne.png](http://torus.uck.pk.edu.pl/~amarsz/images/sigmoidalne.png)\n",
    "\n",
    "Parametr $\\beta$ pozwala na modyfikację nachylenia funkcji sigmoidalnych.\n",
    "\n",
    "Popularność tych funkcji spowodowana jest łatwością obliczania ich pochodnych, co jest konieczne przy użyciu algorytmów uczenia opartych na podejściu gradientowym. Wartości pochodnych dla powyższych funkcji łatwo obliczyć znając jedynie wartości samych funkcji.\n",
    "$$f'_1(x)=\\frac{\\beta e^{-\\beta x}}{\\left(1-e^{-\\beta x}\\right)^2}=\\beta f_1(x)\\left(1-f_1(x)\\right)$$\n",
    "\n",
    "$$f'_2(x)=\\beta-\\beta\\left(\\frac{\\left(e^{\\beta x}-e^{-\\beta x}\\right)^2}{\\left(e^{\\beta x}+e^{-\\beta x}\\right)^2}\\right)=\\beta \\left(1-f_2(x)^2\\right)$$\n"
   ]
  },
  {
   "cell_type": "markdown",
   "metadata": {
    "id": "7IZKS6bzcVFM"
   },
   "source": [
    "## Algorytm wstecznej propagacji błędu\n",
    "Dla uproszczenia rozważymy przypadek sieci z jedną warstwą ukrytą, której schemat wraz z oznaczeniami przedstawia poniższy rysunek.\n",
    "![mlp1h.png](http://torus.uck.pk.edu.pl/~amarsz/images/mlp1h.png)\n",
    "\n",
    "- Wektor sygnałów wejściowych $x=[1, x_1, x_2, \\ldots, x_N]$.\n",
    "- Macierz $W^{(1)}$ o rozmiarach $K\\times(N+1)$ zawiera wartości wag między sygnałami wejściowymi a warstwą ukrytą, gdzie $w^{(1)}_{kn}$ oznacza wagę pomiędzy $k$-tym neuronem warstwy ukrytej a $n$-tym sygnałem wejściowym.\n",
    "- Macierz $W^{(2)}$ o rozmiarach $M\\times(K+1)$ zawiera wartości wag między warstwą ukrytą a warstwą wyjąciową, gdzie $w^{(2)}_{mk}$ oznacza wagę pomiędzy $m$-tym neuronem warstwy wyjściowej a $k$-tym neuronem warstwy ukrytej.\n",
    "- Wektor pożądanych odpowiedzi $x=[d_1, d_2, \\ldots, d_M]$.\n",
    "\n",
    "Wówczas błąd dla jednego przykładu uczącego wyraża się wzorem:\n",
    "\n",
    "$$E(W) = \\frac{1}{2}\\sum\\limits_{m=1}^M\\left[y_m - d_m\\right]^2$$\n",
    "\n",
    "przy czym $y_m$ wyraża się wzorem:\n",
    "\n",
    "$$ y_m = G\\left(\\sum\\limits_{k=0}^K w_{mk}^{(2)}\\cdot v_k\\right) = G\\left(\\sum\\limits_{k=0}^K w_{mk}^{(2)}\\cdot F\\left(\\sum\\limits_{n=0}^N{w^{(1)}_{kn}\\cdot x_n}\\right)\\right)$$\n",
    "\n",
    "gdzie funkcje $F$ i $G$ to funkcje aktywacji odpowiednio w warstwie ukrytej i wyjściowej."
   ]
  },
  {
   "cell_type": "markdown",
   "metadata": {
    "id": "q2vtgnMxcqEP"
   },
   "source": [
    "### Aktualizacja wag warstwy wyjściowej $W^{(2)}$\n",
    "Poprawa wag odbywa się w kierunku przeciwnym do gradienu (wektora pochodnych), $\\eta$ - współczynnik uczenia:\n",
    "\n",
    "$$ w^{(2)}_{mk} = w^{(2)}_{mk} - \\eta\\cdot\\frac{\\partial E(W)}{\\partial w^{(2)}_{mk}} $$\n",
    "\n",
    "gdzie \n",
    "\n",
    "$$ \\frac{\\partial E(W)}{\\partial w^{(2)}_{mk}} = (y_m - d_m)\\cdot G'\\left(\\sum\\limits_{k=0}^K w_{mk}^{(2)}\\cdot v_k\\right)\\cdot v_k $$"
   ]
  },
  {
   "cell_type": "markdown",
   "metadata": {
    "id": "UfawIIuicule"
   },
   "source": [
    "### Aktualizacja wag warstwy ukrytej $W^{(1)}$\n",
    "Poprawa wag odbywa według tej samej zasady co poprzednio, $\\eta$ - współczynnik uczenia:\n",
    "\n",
    "$$ w^{(1)}_{kn} = w^{(1)}_{kn} - \\eta\\cdot\\frac{\\partial E(W)}{\\partial w^{(1)}_{kn}} $$\n",
    "\n",
    "gdzie \n",
    "\n",
    "$$ \\frac{\\partial E(W)}{\\partial w^{(1)}_{kn}} = \\sum\\limits_{m=1}^M\\left[(y_m - d_m)\\cdot G'\\left(\\sum\\limits_{k=0}^K w_{mk}^{(2)}\\cdot v_k\\right)\\cdot w^{(2)}_{mk}\\cdot F'\\left(\\sum\\limits_{n=0}^N{w^{(1)}_{kn}\\cdot x_n}\\right)\\cdot x_n\\right]$$"
   ]
  },
  {
   "cell_type": "markdown",
   "metadata": {
    "id": "u7W2VVjPcydZ"
   },
   "source": [
    "## Problem XOR\n",
    "Poniższy rysunek (po lewej) ilustruje spójnik logiczny XOR. Aby zrealizować spójnik XOR za pomocą sieci neuronowej, wewnątrz zakreślonego obszaru sieć powinna odpowiadać sygnałem równym 1, natomiast na zewnątrz sygnałem równym 0. \n",
    "![xor.png](http://torus.uck.pk.edu.pl/~amarsz/images/xor.png)\n",
    "\n",
    "Takiego warunku nie można spełnić stosując podział obszaru przy użyciu jednej prostej (jednego neuronu) niezależnie od wartości współczynników tej prostej. Problem XOR nie należy zatem do klasy problemów liniowo separowalnych i nie da się go rozwiązać za pomocą sieci jednowarstwowej.\n",
    "\n",
    "Problem XOR w łatwy sposób daje się rozwiązać oddzielając klasy od siebie za pomocą dwóch prostych. Każda z tych prostych reprezentuje jeden neuron, którego wagi dobieramy tak, aby realizowały podział przestrzeni tak jak na rysunku powyżej (po prawej). Dokładając trzeci neuron, którego wejściami są wyjścia poprzednich neuronów otrzymujemy odpowiedź czy znajdujemy się wewnątrz czy na zewnątrz zaznaczonego obszaru.\n",
    "\n",
    "Przykładowy przebieg uczenia sieci klasyfikującej dane typu XOR. \n",
    "![xor_mlp.gif](http://torus.uck.pk.edu.pl/~amarsz/images/xor_mlp.gif)"
   ]
  },
  {
   "cell_type": "markdown",
   "metadata": {
    "id": "5xPZCNLQ2zKO"
   },
   "source": [
    "## Zadanie 1 (4 pkt., obowiązkowe)\n",
    "- Zaimplementuj (w postaci funkcji) sieć neuronową o architekturze przedstawionej na poniższym rysunku.\n",
    "![zad1.png](http://torus.uck.pk.edu.pl/~amarsz/images/zad1.png)\n",
    "- Dla neuronów warstwy ukrytej jako funkcję aktywacji przyjmij bipolarną funkcję sigmoidalną.\n",
    "- Dla neuronu warstwy wyjściowej jako funkcję aktywacji przyjmij unipolarną funkcję sigmoidalną.\n",
    "- Implementację wykonaj na reprezentacji wektorowo-macierzowej.\n",
    "- Funkcja powinna zwracać odpowiedź sieci oraz wszystkie składniki potrzebne do policzenia pochodnych (patrz zadanie 2)."
   ]
  },
  {
   "cell_type": "code",
   "execution_count": 6,
   "metadata": {
    "id": "roJLXMvG4Dgx"
   },
   "outputs": [],
   "source": [
    "import numpy as np\n",
    "\n",
    "def sigmoid(x, beta):\n",
    "    return 1.0/(1.0+np.exp(-beta*x))\n",
    "\n",
    "def tanh(x, beta):\n",
    "    return np.tanh(beta*x)\n",
    "\n",
    "# x - sygnał wejściowy [1,x1,x2,...,xN]\n",
    "# w1 - wagi warstwy ukrytej, macierz\n",
    "# w2 - wagi warstwy wyjściowej, wektor\n",
    "# beta - parametr funkcji aktywacji, mogą być dwa różne\n",
    "def mlp(x, w1, w2, beta):\n",
    "    sol1 = np.dot(w1,x)\n",
    "    y = np.zeros(len(sol1)+1)\n",
    "    y[0] = 1\n",
    "    for i in range(1, (sol1.shape[0]+1)):\n",
    "        y[i] = tanh(beta, sol1[i-1])\n",
    "    sol2 = np.dot(w2,y)\n",
    "    result = sigmoid(beta, sol2)\n",
    "    return result, y"
   ]
  },
  {
   "cell_type": "markdown",
   "metadata": {
    "id": "lFD4AIrBffbv"
   },
   "source": [
    "## Zadanie 2 (6 pkt., obowiązkowe)\n",
    "- Zaimplementuj algorytm wstecznej propagacji błędu dla sieci z zadania 1 w dwóch wariantach:\n",
    "  - aktualizacja wag następuje po każdej próbce uczącej,\n",
    "  - aktualizacja wag następuje po każdej epoce (po wszystkich próbkach uczących). \n",
    "- Stwórz wykres przedstawiające zmiany wartości błędu sieci podczas uczenia (epoka, błąd) rozwiązywania problemu XOR (dane w komórce poniżej).\n",
    "- Oba modele ucz aż błąd klasyfikacji będzie równy 0 (ale nie dłużej niż 100000 epok) przy następującym założeniu\n",
    "  - jeśli odpowiedź sieci jest większa od 0.9 to uznajemy że próbka jest z klasy 1,\n",
    "  - jeśli odpowiedź sieci jest mniejsza od 0.1 to uznajemy że próbka jest z klasy 0,\n",
    "  - w pozostałych przypadkach uznajemy że sieć nie daje jednoznacznej odpowiedzi.\n",
    "- Wskazówka a zarazem pytanie: Aby zbyt często nie utykać w minimach lokalnych, warto zamienić zerowe sygnały wejściowe na wartości niezerowe np. podane niżej dane uczące `xx` warto zamienić na `xx = np.array([[1,-1,-1],[1,-1,1],[1,1,-1],[1,1,1]])`. Dlaczego?"
   ]
  },
  {
   "cell_type": "code",
   "execution_count": 29,
   "metadata": {
    "id": "wiUvCib9A6cc"
   },
   "outputs": [
    {
     "name": "stdout",
     "output_type": "stream",
     "text": [
      "Epoka:  0\n",
      "Błąd klasyfikacji:  4 \n",
      "\n",
      "Epoka:  5000\n",
      "Błąd klasyfikacji:  3 \n",
      "\n",
      "Epoka:  10000\n",
      "Błąd klasyfikacji:  3 \n",
      "\n",
      "Epoka:  15000\n",
      "Błąd klasyfikacji:  3 \n",
      "\n",
      "Epoka:  20000\n",
      "Błąd klasyfikacji:  3 \n",
      "\n",
      "Epoka:  25000\n",
      "Błąd klasyfikacji:  4 \n",
      "\n",
      "Epoka:  30000\n",
      "Błąd klasyfikacji:  4 \n",
      "\n",
      "Epoka:  35000\n",
      "Błąd klasyfikacji:  3 \n",
      "\n",
      "Epoka:  40000\n",
      "Błąd klasyfikacji:  3 \n",
      "\n",
      "Epoka:  45000\n",
      "Błąd klasyfikacji:  3 \n",
      "\n",
      "Epoka:  50000\n",
      "Błąd klasyfikacji:  3 \n",
      "\n",
      "Epoka:  55000\n",
      "Błąd klasyfikacji:  3 \n",
      "\n",
      "Epoka:  60000\n",
      "Błąd klasyfikacji:  3 \n",
      "\n",
      "Epoka:  65000\n",
      "Błąd klasyfikacji:  3 \n",
      "\n",
      "Epoka:  70000\n",
      "Błąd klasyfikacji:  3 \n",
      "\n",
      "Epoka:  75000\n",
      "Błąd klasyfikacji:  3 \n",
      "\n",
      "Epoka:  80000\n",
      "Błąd klasyfikacji:  3 \n",
      "\n",
      "Epoka:  85000\n",
      "Błąd klasyfikacji:  3 \n",
      "\n",
      "Epoka:  90000\n",
      "Błąd klasyfikacji:  3 \n",
      "\n",
      "Epoka:  95000\n",
      "Błąd klasyfikacji:  4 \n",
      "\n",
      "Epoka:  100000\n",
      "Błąd klasyfikacji:  3 \n",
      "\n",
      "KONIEC NAUCZANIA\n",
      "Epoka:  100000\n",
      "Błąd klasyfikacji:  3 \n",
      "\n",
      "Epoka:  0\n",
      "Błąd klasyfikacji:  4 \n",
      "\n",
      "Epoka:  5000\n",
      "Błąd klasyfikacji:  4 \n",
      "\n",
      "Epoka:  10000\n",
      "Błąd klasyfikacji:  4 \n",
      "\n",
      "Epoka:  15000\n",
      "Błąd klasyfikacji:  4 \n",
      "\n",
      "Epoka:  20000\n",
      "Błąd klasyfikacji:  4 \n",
      "\n",
      "Epoka:  25000\n",
      "Błąd klasyfikacji:  4 \n",
      "\n",
      "Epoka:  30000\n",
      "Błąd klasyfikacji:  4 \n",
      "\n",
      "Epoka:  35000\n",
      "Błąd klasyfikacji:  4 \n",
      "\n",
      "Epoka:  40000\n",
      "Błąd klasyfikacji:  4 \n",
      "\n",
      "Epoka:  45000\n",
      "Błąd klasyfikacji:  4 \n",
      "\n",
      "Epoka:  50000\n",
      "Błąd klasyfikacji:  4 \n",
      "\n",
      "Epoka:  55000\n",
      "Błąd klasyfikacji:  4 \n",
      "\n",
      "Epoka:  60000\n",
      "Błąd klasyfikacji:  4 \n",
      "\n",
      "Epoka:  65000\n",
      "Błąd klasyfikacji:  4 \n",
      "\n",
      "Epoka:  70000\n",
      "Błąd klasyfikacji:  4 \n",
      "\n",
      "Epoka:  75000\n",
      "Błąd klasyfikacji:  4 \n",
      "\n",
      "Epoka:  80000\n",
      "Błąd klasyfikacji:  4 \n",
      "\n",
      "Epoka:  85000\n",
      "Błąd klasyfikacji:  4 \n",
      "\n",
      "Epoka:  90000\n",
      "Błąd klasyfikacji:  4 \n",
      "\n",
      "Epoka:  95000\n",
      "Błąd klasyfikacji:  4 \n",
      "\n",
      "Epoka:  100000\n",
      "Błąd klasyfikacji:  4 \n",
      "\n",
      "KONIEC NAUCZANIA\n",
      "Epoka:  100000\n",
      "Błąd klasyfikacji:  4 \n",
      "\n",
      "\n",
      "Metoda 1:\n",
      "Wagi dla warstwy ukrytej:  [[ 7.94752960e-02 -2.71730884e+03 -2.71064626e+03]\n",
      " [ 7.58886593e-01  8.29443034e+02  8.21238573e+02]]\n",
      "Wagi dla warstwy jawnej:  [-4.71410249 -8.15947496 -1.76486407] \n",
      "\n",
      "\n",
      "Metoda 2:\n",
      "Wagi dla warstwy ukrytej:  [[    5.22808325 -3013.90853232 -3016.23883634]\n",
      " [   -6.6267199    690.54234085   688.19681301]]\n",
      "Wagi dla warstwy jawnej:  [-4.63145726 -7.55182862 -1.18718848] \n",
      "\n",
      "\n"
     ]
    },
    {
     "data": {
      "image/png": "[encoded data removed]",
      "text/plain": [
       "<Figure size 432x288 with 1 Axes>"
      ]
     },
     "metadata": {
      "needs_background": "light"
     },
     "output_type": "display_data"
    }
   ],
   "source": [
    "import numpy as np\n",
    "import matplotlib.pyplot as plt\n",
    "\n",
    "xx = np.array([[1,0,0],[1,0,1],[1,1,0],[1,1,1]])\n",
    "#xx = np.array([[1,-1,-1],[1,-1,1],[1,1,-1],[1,1,1]])\n",
    "d = np.array([0, 1, 1, 0])\n",
    "\n",
    "def sigmoid_diff(y, beta):\n",
    "    return beta*y*(1-y)\n",
    "\n",
    "def tanh_diff(y, beta):\n",
    "    return beta*(1-y*y)\n",
    "\n",
    "def train_sample(xx, d, eta, beta):\n",
    "    counter = 0\n",
    "    error = []\n",
    "    while True:\n",
    "        errorClass = 0\n",
    "        propagatError = 0\n",
    "        x = np.zeros(xx.shape[0])\n",
    "        for i in range(len(xx)):\n",
    "            y,x = mlp(xx[i], w1, w2, beta)\n",
    "            propagatError += 0.5 * ((y-d[i])**2)\n",
    "            if(y >= 0.1 and y <= 0.9) or(y >0.9 and d[i] == 0) or (y < 0.1 and d[i] == 1):\n",
    "                errorClass += 1\n",
    "                for j in range(2):\n",
    "                    w1[j, :] -= eta * ((y - d[i]) * sigmoid_diff(beta, y) * w2[j + 1] * tanh_diff(beta, x[j + 1]) * xx[i])\n",
    "                    w2[:] -=eta * ((y - d[i]) * sigmoid_diff(beta, y) * x)\n",
    "        error.append(propagatError)\n",
    "        if counter % 5000 == 0:\n",
    "            print(\"Epoka: \", counter)\n",
    "            print(\"Błąd klasyfikacji: \", errorClass, \"\\n\")\n",
    "        if errorClass == 0 or counter == 100000:\n",
    "            print(\"KONIEC NAUCZANIA\")\n",
    "            print(\"Epoka: \", counter)\n",
    "            print(\"Błąd klasyfikacji: \", errorClass, \"\\n\")\n",
    "            return w1, w2, error\n",
    "        counter += 1\n",
    "                \n",
    "def train_epoach(xx, d, eta, beta):\n",
    "    counter = 0\n",
    "    error = []\n",
    "    while True:\n",
    "        errorClass = 0\n",
    "        propagatError = 0\n",
    "        y = [0] * xx.shape[0]\n",
    "        x = np.zeros((xx.shape[0], 3))\n",
    "        for i in range(len(xx)):\n",
    "            y[i], x[i] = mlp(xx[i], w1, w2, beta)\n",
    "            propagatError += (1 / 2 * ((y[i] - d[i])**2))\n",
    "            if( y[i] >- 0.1 and y[i] <= 0.9) or (y[i] > 0.9 and d[i] == 0) or (y[i] < 0.1 and d[i] == 1):\n",
    "                errorClass += 1\n",
    "        error.append(propagatError)\n",
    "        if counter % 5000 == 0:\n",
    "            print(\"Epoka: \", counter)\n",
    "            print(\"Błąd klasyfikacji: \", errorClass, \"\\n\")\n",
    "        if errorClass == 0 or counter == 100000:\n",
    "            print(\"KONIEC NAUCZANIA\")\n",
    "            print(\"Epoka: \", counter)\n",
    "            print(\"Błąd klasyfikacji: \", errorClass, \"\\n\")\n",
    "            return w1, w2, error\n",
    "        \n",
    "        for j in range(2):\n",
    "            for i in range(len(xx)):\n",
    "                correction_w1 = (y[i] - d[i]) * sigmoid_diff(beta, y[i]) * w2[j+1] * tanh_diff(beta, x[i][j+1]) * xx[i]\n",
    "                w1[j, :] -= eta * correction_w1[:]\n",
    "                correction_w2 = (y[i] - d[i]) * sigmoid_diff(beta, y[i]) * x[i]\n",
    "                w2[:] -= eta * correction_w2\n",
    "        counter += 1\n",
    "\n",
    "w1 = np.random.random((2,3)) * 2 - 1.0\n",
    "w2 = np.random.random(3) * 2 - 1.0\n",
    "temp_w_1 = np.array(w1)\n",
    "temp_w_2 = np.array(w2)\n",
    "\n",
    "r1, r2, i = train_sample(xx, d, 0.1, 0.4)\n",
    "\n",
    "w1 = temp_w_1\n",
    "w2 = temp_w_2\n",
    "r3, r4, i1 = train_epoach(xx, d, 0.1, 0.4)\n",
    "print(\"\\nMetoda 1:\")\n",
    "print(\"Wagi dla warstwy ukrytej: \", r1)\n",
    "print(\"Wagi dla warstwy jawnej: \", r2, \"\\n\")\n",
    "x = np.arange(len(i))\n",
    "y = np.array(i)\n",
    "\n",
    "print(\"\\nMetoda 2:\")\n",
    "print(\"Wagi dla warstwy ukrytej: \", r3)\n",
    "print(\"Wagi dla warstwy jawnej: \", r4, \"\\n\")\n",
    "x1 = np.arange(len(i1))\n",
    "y1 = np.array(i1)\n",
    "\n",
    "plt.plot(x, y, label=\"Metoda 1\", color=\"red\")\n",
    "plt.plot(x1, y1, label=\"Metoda 2\", color=\"blue\")\n",
    "plt.legend(bbox_to_anchor = (0., 1.02, 1., .102), loc=3, ncol=2, mode=\"expand\", borderaxespad=0)\n",
    "print()"
   ]
  },
  {
   "cell_type": "markdown",
   "metadata": {
    "id": "C57dALyNj4Se"
   },
   "source": [
    "&copy; Katedra Informatyki, Politechnika Krakowska"
   ]
  }
 ],
 "metadata": {
  "colab": {
   "authorship_tag": "ABX9TyPPQcUCucKL0VBxiYdpxpS+",
   "collapsed_sections": [],
   "name": "NN_Lab_2_Zadania.ipynb",
   "provenance": []
  },
  "kernelspec": {
   "display_name": "Python 3 (ipykernel)",
   "language": "python",
   "name": "python3"
  },
  "language_info": {
   "codemirror_mode": {
    "name": "ipython",
    "version": 3
   },
   "file_extension": ".py",
   "mimetype": "text/x-python",
   "name": "python",
   "nbconvert_exporter": "python",
   "pygments_lexer": "ipython3",
   "version": "3.9.7"
  }
 },
 "nbformat": 4,
 "nbformat_minor": 1
}
