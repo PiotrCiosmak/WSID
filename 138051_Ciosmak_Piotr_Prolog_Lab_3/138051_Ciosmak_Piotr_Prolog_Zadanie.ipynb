{
 "cells": [
  {
   "cell_type": "markdown",
   "metadata": {
    "id": "AMMXLENOd7V-"
   },
   "source": [
    "# Wstęp do Sztucznej Inteligencji - rok akademicki 2021/2022\n",
    "\n",
    "Przed rozpoczęciem pracy z notatnikiem zmień jego nazwę zgodnie z wzorem: `NrAlbumu_Nazwisko_Imie_PoprzedniaNazwa`.\n",
    "\n",
    "Przed wysłaniem notatnika upewnij się, że rozwiązałeś wszystkie zadania/ćwiczenia."
   ]
  },
  {
   "cell_type": "markdown",
   "metadata": {
    "id": "4ZZF68t-kiQ8"
   },
   "source": [
    "## Zadanie 1  (obowiązkowe, 10pkt.)\n",
    "\n",
    "### Aby wygenerować treść zadania wprowadź swój nr albumu i wykonaj poniższe komórki (Shift + Enter) "
   ]
  },
  {
   "cell_type": "code",
   "execution_count": 2,
   "metadata": {
    "id": "1wWZXA_2tilS"
   },
   "outputs": [],
   "source": [
    "nr_albumu = '138051'"
   ]
  },
  {
   "cell_type": "markdown",
   "metadata": {
    "id": "8ODf7GQ2eLho"
   },
   "source": [
    "### Instrukcje\n",
    "\n",
    "- Rozwiąż przydzielone sobie zadanie za pomocą odpowiedniego programu w Prologu.\n",
    "- W komórce TWÓJ PROGRAM przedstaw ten program.\n",
    "- W komórce ODPOWIEDŹ podaj rozwiązanie w postaci:\n",
    "```\n",
    "Jarek 0 kot\n",
    "Franek 3 chomik\n",
    "Stefan 1 rybka\n",
    "...\n",
    "```"
   ]
  },
  {
   "cell_type": "markdown",
   "metadata": {
    "id": "9B7YUblnktrz"
   },
   "source": [
    "### TWÓJ PROGRAM:"
   ]
  },
  {
   "cell_type": "markdown",
   "metadata": {
    "id": "lFD4AIrBffbv"
   },
   "source": [
    "Zadanie 51\n",
    "```prolog\n",
    "zwierzęta(Jarek, Franek, Stefan, Albert, Szymon, Robert, Marcin) :-\n",
    "    L0 = [\"Pies0\", \"Kot4\", \"Ryba5\", \"Chomik1\", \"Papuga6\", \"Wąż2\", \"Kanarek3\"],\n",
    "    select(Jarek, L0, L1), Jarek \\= \"Ryba5\", Jarek \\= \"Chomik1\", Jarek \\= \"Papuga6\", Jarek \\= \"Kanarek3\", Jarek \\= \"Wąż2\", Jarek \\= \"Pies0\",\n",
    "    select(Franek, L1, L2), Franek \\= \"Chomik1\", Franek \\= \"Pies0\", Franek \\= \"Kanarek3\", Franek \\= \"Papuga6\", Franek \\= \"Kot4\", Franek \\= \"Ryba5\",\n",
    "    select(Stefan, L2, L3), Stefan \\= \"Chomik1\", Stefan \\= \"Kanarek3\", Stefan \\= \"Papuga6\", Stefan \\= \"Wąż2\", Stefan \\= \"Kot4\",\n",
    "    select(Albert, L3, L4), Albert \\= \"Kanarek3\", Albert \\= \"Pies0\", Albert \\= \"Chomik1\", Albert \\= \"Papuga6\",\n",
    "    select(Szymon, L4, L5), Szymon \\= \"Wąż2\", Szymon \\= \"Kanarek3\", Szymon \\= \"Ryba5\", Szymon \\= \"Pies0\", Szymon \\= \"Chomik1\", Szymon \\= \"Kot4\",\n",
    "    select(Robert, L5, L6), Robert \\= \"Papuga6\", Robert \\= \"Wąż2\", Robert \\= \"Kanarek3\", Robert \\= \"Ryba5\", Robert \\= \"Pies0\", Robert \\= \"Kot4\",\n",
    "    select(Marcin, L6, _), Marcin \\= \"Pies0\", Marcin \\= \"Kot4\", Marcin \\= \"Wąż2\", Marcin \\= \"Chomik1\", Marcin \\= \"Papuga6\", Marcin \\= \"Ryba5\".\n",
    "```"
   ]
  },
  {
   "cell_type": "markdown",
   "metadata": {
    "id": "l_vcZLlxh19H"
   },
   "source": [
    "### ODPOWIEDŹ:"
   ]
  },
  {
   "cell_type": "markdown",
   "metadata": {
    "id": "l-OhAVorh9ow"
   },
   "source": [
    "Albert 5 ryba\n",
    "\n",
    "Franek 2 wąż\n",
    "\n",
    "Jarek 4 kot\n",
    "\n",
    "Marcin 3 kanarek\n",
    "\n",
    "Robert 1 chomik\n",
    "\n",
    "Stefan 0 pies\n",
    "\n",
    "Szymon 6 papuga"
   ]
  },
  {
   "cell_type": "markdown",
   "metadata": {
    "id": "C57dALyNj4Se"
   },
   "source": [
    "&copy; Katedra Informatyki, Politechnika Krakowska"
   ]
  }
 ],
 "metadata": {
  "colab": {
   "authorship_tag": "ABX9TyPIKwg7+zP2UWOjbAVk8fop",
   "collapsed_sections": [],
   "name": "Prolog_Zadanie.ipynb",
   "provenance": [],
   "toc_visible": true
  },
  "kernelspec": {
   "display_name": "Python 3 (ipykernel)",
   "language": "python",
   "name": "python3"
  },
  "language_info": {
   "codemirror_mode": {
    "name": "ipython",
    "version": 3
   },
   "file_extension": ".py",
   "mimetype": "text/x-python",
   "name": "python",
   "nbconvert_exporter": "python",
   "pygments_lexer": "ipython3",
   "version": "3.9.7"
  }
 },
 "nbformat": 4,
 "nbformat_minor": 1
}
