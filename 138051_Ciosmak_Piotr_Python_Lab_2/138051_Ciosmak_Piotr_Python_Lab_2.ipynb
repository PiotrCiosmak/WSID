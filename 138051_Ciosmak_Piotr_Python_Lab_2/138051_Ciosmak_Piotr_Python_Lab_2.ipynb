{
 "cells": [
  {
   "cell_type": "markdown",
   "metadata": {
    "id": "AMMXLENOd7V-"
   },
   "source": [
    "# Wstęp do Sztucznej Inteligencji - rok akademicki 2021/2022\n",
    "\n",
    "Przed rozpoczęciem pracy z notatnikiem zmień jego nazwę zgodnie z wzorem: `NrAlbumu_Nazwisko_Imie_PoprzedniaNazwa`.\n",
    "\n",
    "Przed wysłaniem notatnika upewnij się, że rozwiązałeś wszystkie zadania/ćwiczenia."
   ]
  },
  {
   "cell_type": "markdown",
   "metadata": {
    "id": "4ZZF68t-kiQ8"
   },
   "source": [
    "# Temat: Wprowadzenie do języka Python cz. II\n",
    "Zapoznaj się z treścią niniejszego notatnika czytając i wykonując go komórka po komórce. Wykonaj napotkane zadania/ćwiczenia."
   ]
  },
  {
   "cell_type": "markdown",
   "metadata": {
    "id": "8ODf7GQ2eLho"
   },
   "source": [
    "## Moduły i skrypty\n",
    "Z plikami z rozszerzeniem `.py` można pracować na 2 sposoby.\n",
    "\n",
    "- jak ze skryptem (ala plik wykonywalny),\n",
    "- jak z modułem (biblioteką) w innych projektach.\n",
    "\n",
    "Utwórz plik tekstowy `pytest.py` o następującej treści:\n",
    "```python\n",
    "def suma(a,b):\n",
    "    return a+b\n",
    "\n",
    "def roznica(a,b):\n",
    "    return a-b\n",
    "\n",
    "PI = 3.1415\n",
    "\n",
    "print(suma(3,5))\n",
    "```\n",
    "W notatniku Jupyter (Colab) można to zrobić wykorzystując tzw. \"funkcje magiczne\" jak w komórce poniżej:"
   ]
  },
  {
   "cell_type": "code",
   "execution_count": 62,
   "metadata": {
    "id": "BpX74XmK_BDL"
   },
   "outputs": [
    {
     "name": "stdout",
     "output_type": "stream",
     "text": [
      "Overwriting pytest.py\n"
     ]
    }
   ],
   "source": [
    "%%writefile pytest.py\n",
    "def suma(a,b):\n",
    "    return a+b\n",
    "\n",
    "def roznica(a,b):\n",
    "    return a-b\n",
    "\n",
    "PI = 3.1415\n",
    "\n",
    "print(suma(3,5))"
   ]
  },
  {
   "cell_type": "markdown",
   "metadata": {
    "id": "HuxZVFXz0Ps1"
   },
   "source": [
    "Aby wykonać plik `pytest.py` należy w terminalu wykonać poniższe polecenie:\n",
    "```\n",
    "python pytest.py\n",
    "```\n",
    "W notatniku Jupyter (Colab) można to zrobić rozpoczynając polecenie znakiem `!` co oznacza że nie są to polecienia języka Python a polecenia w bash'u.\n",
    "\n",
    "Oczywiście należy być w folderze w którym jest plik `pytest.py` lub podać pełną scieżkę do pliku."
   ]
  },
  {
   "cell_type": "code",
   "execution_count": 63,
   "metadata": {
    "id": "xXycW_K-_H9Q"
   },
   "outputs": [
    {
     "name": "stdout",
     "output_type": "stream",
     "text": [
      "8\n"
     ]
    }
   ],
   "source": [
    "!python pytest.py"
   ]
  },
  {
   "cell_type": "markdown",
   "metadata": {
    "id": "FL7-etoM1FSb"
   },
   "source": [
    "Po wykonaniu polecenia na ekranie powinien pojawić się wynik 8.\n",
    "\n",
    "Możemy również używać pliku `pytest.py` importując go tak jak wcześniej poznane modułu."
   ]
  },
  {
   "cell_type": "code",
   "execution_count": 64,
   "metadata": {
    "id": "c8JyyouD1SAE"
   },
   "outputs": [],
   "source": [
    "import pytest"
   ]
  },
  {
   "cell_type": "markdown",
   "metadata": {
    "id": "xcjM1iLm1XGF"
   },
   "source": [
    "W tym przypadku plik również został wykonany (pojawiło się 8), ale mamy też możliwość wykorzystania obiektów zdefiniowanych w naszym module."
   ]
  },
  {
   "cell_type": "code",
   "execution_count": 65,
   "metadata": {
    "id": "BdUPjdSX1eHb"
   },
   "outputs": [
    {
     "data": {
      "text/plain": [
       "5"
      ]
     },
     "execution_count": 65,
     "metadata": {},
     "output_type": "execute_result"
    }
   ],
   "source": [
    "pytest.suma(1,4)"
   ]
  },
  {
   "cell_type": "code",
   "execution_count": 66,
   "metadata": {
    "id": "BjfnHsGj1hRp"
   },
   "outputs": [
    {
     "data": {
      "text/plain": [
       "2.1415"
      ]
     },
     "execution_count": 66,
     "metadata": {},
     "output_type": "execute_result"
    }
   ],
   "source": [
    "pytest.roznica(pytest.PI,1)"
   ]
  },
  {
   "cell_type": "markdown",
   "metadata": {
    "id": "gNX175G414hc"
   },
   "source": [
    "Aby podczas importowania nie wykonywała się linia `print(suma(3,5))` powinna ona znaleźć się w bloku `if __name__==\"__main__\":`"
   ]
  },
  {
   "cell_type": "markdown",
   "metadata": {
    "id": "9B7YUblnktrz"
   },
   "source": [
    "### Ćwiczenie 1:\n",
    "Zmodyfikuj plik `pytest.py` w poniższy sposób i sprawdź róźnicę w działaniu.\n",
    "\n",
    "```python\n",
    "def suma(a,b):\n",
    "    return a+b\n",
    "\n",
    "def roznica(a,b):\n",
    "    return a-b\n",
    "\n",
    "PI = 3.1415\n",
    "\n",
    "if __name__==\"__main__\":\n",
    "    print(suma(3,5))\n",
    "```\n",
    "\n",
    "W przypadku wykonywania pliku zmienna `__name__` przyjmuje wartość `\"__main__\"`, a w przypadku importu nazwę modułu, dzięki temu z tego samego pliku możemy korzystać zarówno jak ze skryptu i jak z modułu."
   ]
  },
  {
   "cell_type": "code",
   "execution_count": 67,
   "metadata": {},
   "outputs": [
    {
     "name": "stdout",
     "output_type": "stream",
     "text": [
      "Overwriting pytest.py\n"
     ]
    }
   ],
   "source": [
    "%%writefile pytest.py\n",
    "def suma(a,b):\n",
    "    return a+b\n",
    "\n",
    "def roznica(a,b):\n",
    "    return a-b\n",
    "\n",
    "PI = 3.1415\n",
    "\n",
    "if __name__==\"__main__\":\n",
    "    print(suma(3,5))"
   ]
  },
  {
   "cell_type": "code",
   "execution_count": 68,
   "metadata": {},
   "outputs": [
    {
     "name": "stdout",
     "output_type": "stream",
     "text": [
      "8\n",
      "0\n"
     ]
    }
   ],
   "source": [
    "import pytest #już sie nie wykonało automatycznie\n",
    "print(pytest.suma(3,5))\n",
    "print(pytest.roznica(1,1))"
   ]
  },
  {
   "cell_type": "markdown",
   "metadata": {
    "id": "5xPZCNLQ2zKO"
   },
   "source": [
    "## Numpy ( http://www.numpy.org/ )\n",
    "`Numpy` to podstawowa biblioteka do implementacji operacji i algorytmów numerycznych.\n",
    "\n",
    "Głównym obiektem biblioteki jest `ndarray` czyli tablica wielowymiarowa, za pomocą której można reprezentować wektory, macierze, tensory itp.\n",
    "\n",
    "Moduł `numpy` najczęściej imprtowany jest z aliasem `np`."
   ]
  },
  {
   "cell_type": "code",
   "execution_count": 69,
   "metadata": {
    "id": "UUSvbKHP2dd9"
   },
   "outputs": [],
   "source": [
    "import numpy as np"
   ]
  },
  {
   "cell_type": "markdown",
   "metadata": {
    "id": "VWilOQkE_yA8"
   },
   "source": [
    "### Obiekt `ndarray`.\n",
    "Tworzenie:"
   ]
  },
  {
   "cell_type": "code",
   "execution_count": 70,
   "metadata": {
    "id": "f_Rc7P6V_8b5"
   },
   "outputs": [
    {
     "name": "stdout",
     "output_type": "stream",
     "text": [
      "a: [1 2]\n",
      "b: [1.3 2.5]\n",
      "c: [1 2]\n",
      "d: [1.+2.j 3.+1.j]\n",
      "e: [[1 2 4]\n",
      " [4 5 7]]\n"
     ]
    },
    {
     "data": {
      "text/plain": [
       "numpy.ndarray"
      ]
     },
     "execution_count": 70,
     "metadata": {},
     "output_type": "execute_result"
    }
   ],
   "source": [
    "a = np.array([1,2])\n",
    "b = np.array([1.3, 2.5],)\n",
    "c = np.array([1.3, 2.5], dtype=np.int64) #rzutowanie na typ int\n",
    "d = np.array([1+2j, 3+1j])\n",
    "e = np.array([[1,2,4],[4,5,7]])\n",
    "print('a:', a)\n",
    "print('b:', b)\n",
    "print('c:', c)\n",
    "print('d:', d)\n",
    "print('e:', e)\n",
    "type(a)"
   ]
  },
  {
   "cell_type": "code",
   "execution_count": 71,
   "metadata": {
    "id": "ot2xIuqtHkpd"
   },
   "outputs": [
    {
     "data": {
      "text/plain": [
       "array([[2., 2., 2., 2., 2.],\n",
       "       [2., 2., 2., 2., 2.],\n",
       "       [2., 2., 2., 2., 2.],\n",
       "       [2., 2., 2., 2., 2.],\n",
       "       [2., 2., 2., 2., 2.]])"
      ]
     },
     "execution_count": 71,
     "metadata": {},
     "output_type": "execute_result"
    }
   ],
   "source": [
    "np.ones((1,5))+np.ones((5,1))"
   ]
  },
  {
   "cell_type": "markdown",
   "metadata": {
    "id": "lFD4AIrBffbv"
   },
   "source": [
    "Podstawowe atrybuty obiektu `ndarray`."
   ]
  },
  {
   "cell_type": "code",
   "execution_count": 72,
   "metadata": {
    "id": "SNYidx34AHvA"
   },
   "outputs": [
    {
     "name": "stdout",
     "output_type": "stream",
     "text": [
      "(2,)\n",
      "(2, 3)\n",
      "1\n",
      "2\n",
      "int64\n",
      "complex128\n",
      "2\n",
      "6\n"
     ]
    }
   ],
   "source": [
    "print(a.shape) #wymiary tablicy\n",
    "print(e.shape)\n",
    "print(b.ndim) #liczba wymiarów\n",
    "print(e.ndim)\n",
    "print(c.dtype) #typ danych\n",
    "print(d.dtype) \n",
    "print(d.size) #liczba elemetów\n",
    "print(e.size)"
   ]
  },
  {
   "cell_type": "markdown",
   "metadata": {
    "id": "5Oy0msBz2-BF"
   },
   "source": [
    "Do elementów obiektu `ndarray` odwołujemy się w taki sam sposób jak do elementów listy."
   ]
  },
  {
   "cell_type": "code",
   "execution_count": 73,
   "metadata": {
    "id": "udyrHlfIAKZK",
    "scrolled": true
   },
   "outputs": [
    {
     "name": "stdout",
     "output_type": "stream",
     "text": [
      "1\n",
      "[4 5 7]\n",
      "7\n",
      "[2]\n",
      "[2 5]\n",
      "[1 2 4]\n"
     ]
    }
   ],
   "source": [
    "print(a[0])\n",
    "print(e[1])\n",
    "print(e[1,2])\n",
    "print(a[1:3])\n",
    "print(e[:,1])\n",
    "print(e[0,:])"
   ]
  },
  {
   "cell_type": "markdown",
   "metadata": {
    "id": "mOP-odgN3GU4"
   },
   "source": [
    "Wybieranie elementów spełniających podany warunek."
   ]
  },
  {
   "cell_type": "code",
   "execution_count": 74,
   "metadata": {
    "id": "dIAyZ0ZmAOCM"
   },
   "outputs": [],
   "source": [
    "#a>1\n",
    "#a[a>1]"
   ]
  },
  {
   "cell_type": "markdown",
   "metadata": {
    "id": "P3ghO1kw3MDM"
   },
   "source": [
    "Wybieranie elementów podajac ich indeksy."
   ]
  },
  {
   "cell_type": "code",
   "execution_count": 75,
   "metadata": {
    "id": "ob6Ru1WuARs-"
   },
   "outputs": [
    {
     "data": {
      "text/plain": [
       "array([1, 2, 1, 2])"
      ]
     },
     "execution_count": 75,
     "metadata": {},
     "output_type": "execute_result"
    }
   ],
   "source": [
    "a[[0,1,0,1]]"
   ]
  },
  {
   "cell_type": "markdown",
   "metadata": {
    "id": "l_vcZLlxh19H"
   },
   "source": [
    "Przydatne wbudowane metody do tworzenia obiektów `ndarray`."
   ]
  },
  {
   "cell_type": "code",
   "execution_count": 76,
   "metadata": {
    "id": "boa60bu3AkZJ"
   },
   "outputs": [
    {
     "data": {
      "text/plain": [
       "array([0., 0., 0., 0., 0., 0., 0., 0., 0., 0.])"
      ]
     },
     "execution_count": 76,
     "metadata": {},
     "output_type": "execute_result"
    }
   ],
   "source": [
    "np.zeros(10)"
   ]
  },
  {
   "cell_type": "code",
   "execution_count": 77,
   "metadata": {
    "id": "ESWb7yK2A2mX"
   },
   "outputs": [
    {
     "data": {
      "text/plain": [
       "array([[0., 0., 0.],\n",
       "       [0., 0., 0.]])"
      ]
     },
     "execution_count": 77,
     "metadata": {},
     "output_type": "execute_result"
    }
   ],
   "source": [
    "np.zeros((2,3))"
   ]
  },
  {
   "cell_type": "code",
   "execution_count": 78,
   "metadata": {
    "id": "7sMWKYUKA2tJ"
   },
   "outputs": [
    {
     "data": {
      "text/plain": [
       "array([1., 1., 1., 1., 1., 1., 1., 1., 1., 1.])"
      ]
     },
     "execution_count": 78,
     "metadata": {},
     "output_type": "execute_result"
    }
   ],
   "source": [
    "np.ones(10)"
   ]
  },
  {
   "cell_type": "code",
   "execution_count": 79,
   "metadata": {
    "id": "wB-LYxThBD_J"
   },
   "outputs": [
    {
     "data": {
      "text/plain": [
       "array([[1., 1., 1., 1.],\n",
       "       [1., 1., 1., 1.],\n",
       "       [1., 1., 1., 1.]])"
      ]
     },
     "execution_count": 79,
     "metadata": {},
     "output_type": "execute_result"
    }
   ],
   "source": [
    "np.ones((3,4))"
   ]
  },
  {
   "cell_type": "code",
   "execution_count": 80,
   "metadata": {
    "id": "Mfbv6i25BPSu"
   },
   "outputs": [
    {
     "data": {
      "text/plain": [
       "array([0, 1, 2, 3, 4])"
      ]
     },
     "execution_count": 80,
     "metadata": {},
     "output_type": "execute_result"
    }
   ],
   "source": [
    "np.arange(5)"
   ]
  },
  {
   "cell_type": "code",
   "execution_count": 81,
   "metadata": {
    "id": "naqMZp8xBXDu"
   },
   "outputs": [
    {
     "data": {
      "text/plain": [
       "array([ 3,  4,  5,  6,  7,  8,  9, 10, 11, 12, 13, 14])"
      ]
     },
     "execution_count": 81,
     "metadata": {},
     "output_type": "execute_result"
    }
   ],
   "source": [
    "np.arange(3,15)"
   ]
  },
  {
   "cell_type": "code",
   "execution_count": 82,
   "metadata": {
    "id": "BpX4MOgUBdc3"
   },
   "outputs": [
    {
     "data": {
      "text/plain": [
       "array([ 3. ,  3.9,  4.8,  5.7,  6.6,  7.5,  8.4,  9.3, 10.2, 11.1, 12. ,\n",
       "       12.9, 13.8, 14.7])"
      ]
     },
     "execution_count": 82,
     "metadata": {},
     "output_type": "execute_result"
    }
   ],
   "source": [
    "np.arange(3,15,0.9)"
   ]
  },
  {
   "cell_type": "code",
   "execution_count": 83,
   "metadata": {
    "id": "L6mCt_LpB0U2"
   },
   "outputs": [
    {
     "data": {
      "text/plain": [
       "array([0.        , 0.11111111, 0.22222222, 0.33333333, 0.44444444,\n",
       "       0.55555556, 0.66666667, 0.77777778, 0.88888889, 1.        ])"
      ]
     },
     "execution_count": 83,
     "metadata": {},
     "output_type": "execute_result"
    }
   ],
   "source": [
    "np.linspace(0,1,10) # 10 równorozłożonych punktów od 0 do 1"
   ]
  },
  {
   "cell_type": "markdown",
   "metadata": {
    "id": "PE1roTj0jGUJ"
   },
   "source": [
    "### Arytmetyka\n",
    "Wszystkie operacje arytmetyczne na obiektach `ndarray` wykonywane są na elementach będących na tych samych pozycjach, a wiec wymiary muszą sie zgadzać."
   ]
  },
  {
   "cell_type": "code",
   "execution_count": 84,
   "metadata": {
    "id": "_3DQ1FhSCIN-"
   },
   "outputs": [
    {
     "name": "stdout",
     "output_type": "stream",
     "text": [
      "a: [1 2 3 4] b: [1. 1. 1. 1.]\n",
      "a+b: [2. 3. 4. 5.]\n",
      "a-b: [0. 1. 2. 3.]\n",
      "a*b: [1. 2. 3. 4.]\n",
      "a/(2*b): [0.5 1.  1.5 2. ]\n",
      "a**2: [ 1  4  9 16]\n",
      "a**(b/2): [1.         1.41421356 1.73205081 2.        ]\n"
     ]
    }
   ],
   "source": [
    "a = np.array([1,2,3,4])\n",
    "b = np.ones(4)\n",
    "print('a:',a,'b:',b)\n",
    "print('a+b:',a+b)\n",
    "print('a-b:',a-b)\n",
    "print('a*b:',a*b)\n",
    "print('a/(2*b):',a/(2*b))\n",
    "print('a**2:',a**2)\n",
    "print('a**(b/2):',a**(b/2))"
   ]
  },
  {
   "cell_type": "markdown",
   "metadata": {
    "id": "jn0KqUF5CQfH"
   },
   "source": [
    "W module `numpy` wbudowane są również podstawowe funkcje matematyczne, które jako argument przyjmują obiekt `ndarray`, np."
   ]
  },
  {
   "cell_type": "code",
   "execution_count": 85,
   "metadata": {
    "id": "k17CspahCS4-"
   },
   "outputs": [
    {
     "name": "stdout",
     "output_type": "stream",
     "text": [
      "sin(a): [ 0.84147098  0.90929743  0.14112001 -0.7568025 ]\n",
      "log(a): [0.         0.69314718 1.09861229 1.38629436]\n"
     ]
    }
   ],
   "source": [
    "print('sin(a):', np.sin(a))\n",
    "print('log(a):', np.log(a))"
   ]
  },
  {
   "cell_type": "markdown",
   "metadata": {
    "id": "S8uLX4SL81vv"
   },
   "source": [
    "Inne przydatne metody:"
   ]
  },
  {
   "cell_type": "code",
   "execution_count": 86,
   "metadata": {
    "id": "qWEVJtDO83a7"
   },
   "outputs": [
    {
     "name": "stdout",
     "output_type": "stream",
     "text": [
      "a: [1.  1.5 2.  2.5 3.  3.5 4.  4.5]\n",
      "suma elementów: 22.0\n",
      "iloczyn elementów: 1417.5\n",
      "cumsum: [ 1.   2.5  4.5  7.  10.  13.5 17.5 22. ]\n",
      "max: 4.5\n",
      "argmax: 7\n"
     ]
    }
   ],
   "source": [
    "a = np.arange(1,5,0.5)\n",
    "print('a:',a)\n",
    "print('suma elementów:', np.sum(a))\n",
    "print('iloczyn elementów:', np.prod(a))\n",
    "print('cumsum:', np.cumsum(a))\n",
    "print('max:', np.max(a)) #analogicznie minimum\n",
    "print('argmax:', np.argmax(a))"
   ]
  },
  {
   "cell_type": "markdown",
   "metadata": {
    "id": "bDsMZnVxCZHb"
   },
   "source": [
    "W przypadku wiekszej liczby wymiarów możemy wykonywać operacje takie jak np. `sum`, `max`, `min` itp. według zadanego wymiaru `axis`."
   ]
  },
  {
   "cell_type": "code",
   "execution_count": 87,
   "metadata": {
    "id": "2Qr_1zeDCS9g"
   },
   "outputs": [
    {
     "name": "stdout",
     "output_type": "stream",
     "text": [
      "m: [[1 2 3]\n",
      " [4 5 6]\n",
      " [7 8 9]]\n",
      "suma: 45\n",
      "suma w wierszach: [ 6 15 24]\n",
      "suma w kolumach: [12 15 18]\n"
     ]
    }
   ],
   "source": [
    "m = np.array([[1,2,3],[4,5,6],[7,8,9]])\n",
    "print('m:',m)\n",
    "print('suma:',np.sum(m))\n",
    "print('suma w wierszach:',np.sum(m, axis=1))\n",
    "print('suma w kolumach:',np.sum(m, axis=0))"
   ]
  },
  {
   "cell_type": "markdown",
   "metadata": {
    "id": "GIxOVvtE9Fy-"
   },
   "source": [
    "Zmiana wymiarów:"
   ]
  },
  {
   "cell_type": "code",
   "execution_count": 88,
   "metadata": {
    "id": "zTypDFL9CTCM"
   },
   "outputs": [
    {
     "name": "stdout",
     "output_type": "stream",
     "text": [
      "[1. 1. 1. 1. 1. 1. 1. 1. 1. 1. 1. 1. 1. 1. 1.]\n",
      "[[1. 1. 1. 1. 1.]\n",
      " [1. 1. 1. 1. 1.]\n",
      " [1. 1. 1. 1. 1.]]\n"
     ]
    }
   ],
   "source": [
    "a = np.ones(15)\n",
    "print(a)\n",
    "print(a.reshape(3,5))"
   ]
  },
  {
   "cell_type": "markdown",
   "metadata": {
    "id": "hnCwTM9jCm7g"
   },
   "source": [
    "### Algebra liniowa"
   ]
  },
  {
   "cell_type": "code",
   "execution_count": 89,
   "metadata": {
    "id": "nwrFGG_iCTAL"
   },
   "outputs": [
    {
     "name": "stdout",
     "output_type": "stream",
     "text": [
      "wektor v: [1 1]\n",
      "macierz m: [[1 2]\n",
      " [3 4]]\n",
      "transpozycja wektora: [1 1]\n",
      "transpozycja macierzy: [[1 3]\n",
      " [2 4]]\n",
      "wektor * wektor: 2\n",
      "macierz * wektor: [3 7]\n",
      "wektor * macierz: [4 6]\n"
     ]
    }
   ],
   "source": [
    "v = np.array([1,1])\n",
    "m = np.array([[1,2],[3,4]])\n",
    "print('wektor v:',v)\n",
    "print('macierz m:',m)\n",
    "print('transpozycja wektora:',v.T) #nic nie zmienia\n",
    "print('transpozycja macierzy:',m.T)\n",
    "print('wektor * wektor:', np.dot(v,v)) #iloczyn skalarny\n",
    "print('macierz * wektor:', np.dot(m,v))\n",
    "print('wektor * macierz:', np.dot(v,m))"
   ]
  },
  {
   "cell_type": "markdown",
   "metadata": {
    "id": "DTVoH__fCwtK"
   },
   "source": [
    "Ponieważ transpozycja tablicy jednowymiarowaj nic nie zmienia, mnożenie macierzy przez wektor nie zawsze zadziała poprawnie. Aby operacje były zgodne z rachunkiem macierzowym wektor powinnien być zdefiniowany jako macierz o jednym wierszu/kolumnie. Można w tym celu zamiast `np.array` użyć `np.matrix`."
   ]
  },
  {
   "cell_type": "code",
   "execution_count": 90,
   "metadata": {
    "id": "yHbrbma7CvWY"
   },
   "outputs": [
    {
     "name": "stdout",
     "output_type": "stream",
     "text": [
      "wektor v: [[1 1]]\n",
      "macierz m: [[1 2]\n",
      " [3 4]]\n",
      "transpozycja wektora: [[1]\n",
      " [1]]\n",
      "transpozycja macierzy: [[1 3]\n",
      " [2 4]]\n",
      "wektor razy wektor: [[2]]\n",
      "macierz razy wektor: [[3]\n",
      " [7]]\n",
      "wektor razy macierz: [[4 6]]\n"
     ]
    }
   ],
   "source": [
    "v = np.array([[1,1]])\n",
    "m = np.array([[1,2],[3,4]])\n",
    "print('wektor v:',v)\n",
    "print('macierz m:',m)\n",
    "print('transpozycja wektora:',v.T)\n",
    "print('transpozycja macierzy:',m.T)\n",
    "print('wektor razy wektor:', np.dot(v,v.T)) #macierz o jednym elemencie\n",
    "print('macierz razy wektor:', np.dot(m,v.T)) #macierz o jednej kolumnie\n",
    "print('wektor razy macierz:', np.dot(v,m)) #macierz o jednym wierszu"
   ]
  },
  {
   "cell_type": "code",
   "execution_count": 91,
   "metadata": {
    "id": "xlh_MY4OCvir"
   },
   "outputs": [
    {
     "data": {
      "text/plain": [
       "matrix([[1, 2, 3]])"
      ]
     },
     "execution_count": 91,
     "metadata": {},
     "output_type": "execute_result"
    }
   ],
   "source": [
    "np.matrix([1,2,3])"
   ]
  },
  {
   "cell_type": "code",
   "execution_count": 92,
   "metadata": {
    "id": "6fuj6TkVCve9"
   },
   "outputs": [
    {
     "data": {
      "text/plain": [
       "matrix([[1, 2],\n",
       "        [3, 4]])"
      ]
     },
     "execution_count": 92,
     "metadata": {},
     "output_type": "execute_result"
    }
   ],
   "source": [
    "np.matrix([[1,2],[3,4]])"
   ]
  },
  {
   "cell_type": "markdown",
   "metadata": {
    "id": "xImud91SDXy5"
   },
   "source": [
    "Wyznacznik i macierz odwrotna (`np.linalg`)"
   ]
  },
  {
   "cell_type": "code",
   "execution_count": 93,
   "metadata": {
    "id": "14YgPXYYDWuM"
   },
   "outputs": [
    {
     "name": "stdout",
     "output_type": "stream",
     "text": [
      "macierz m: [[1 2]\n",
      " [3 4]]\n",
      "det(m): -2.0000000000000004\n",
      "m^(-1): [[-2.   1. ]\n",
      " [ 1.5 -0.5]]\n",
      "m*m^(-1): [[1.00000000e+00 1.11022302e-16]\n",
      " [0.00000000e+00 1.00000000e+00]]\n"
     ]
    }
   ],
   "source": [
    "m = np.matrix([[1,2],[3,4]])\n",
    "print('macierz m:',m)\n",
    "print('det(m):', np.linalg.det(m))\n",
    "print('m^(-1):', np.linalg.inv(m))\n",
    "print('m*m^(-1):', np.dot(m,np.linalg.inv(m)))"
   ]
  },
  {
   "cell_type": "markdown",
   "metadata": {
    "id": "CMT5t9NWDf2I"
   },
   "source": [
    "## Scipy ( http://www.scipy.org )\n",
    "`Scipy` to zbudowany na bazie `numpy` moduł zawierający podstawowe algorytmy numeryczne służące m.in do całkowania, optymalizacji, interpolacji itp.\n"
   ]
  },
  {
   "cell_type": "markdown",
   "metadata": {
    "id": "5e_Wlgoc-WUx"
   },
   "source": [
    "### Całkowanie numeryczne"
   ]
  },
  {
   "cell_type": "code",
   "execution_count": 94,
   "metadata": {
    "id": "CNSB1dLADWxn"
   },
   "outputs": [
    {
     "name": "stdout",
     "output_type": "stream",
     "text": [
      "quad: (0.33333333333333337, 3.700743415417189e-15)\n",
      "trapz: 0.333333500333834\n"
     ]
    }
   ],
   "source": [
    "from scipy.integrate import quad, trapz\n",
    "\n",
    "def func(x):\n",
    "    return x**2\n",
    "\n",
    "# całka z x^2 na przedziale [0,1] \n",
    "# metoda kwadratury gaussa\n",
    "c1 = quad(func, 0, 1) # zwraca wartość całki i oszacowany błąd\n",
    "print('quad:',c1) \n",
    "\n",
    "# metoda trapezów\n",
    "x = np.linspace(0, 1,1000)\n",
    "y = func(x)\n",
    "c2 = trapz(y, x) # zwaraca wartość całki\n",
    "print('trapz:',c2)"
   ]
  },
  {
   "cell_type": "markdown",
   "metadata": {
    "id": "QKxbhRDlDma9"
   },
   "source": [
    "### Optymalizacja"
   ]
  },
  {
   "cell_type": "code",
   "execution_count": 95,
   "metadata": {
    "id": "TWK5iPz9De9G"
   },
   "outputs": [
    {
     "name": "stdout",
     "output_type": "stream",
     "text": [
      "Optimization terminated successfully.\n",
      "         Current function value: 0.000000\n",
      "         Iterations: 74\n",
      "         Function evaluations: 139\n",
      "punkt minimum: [ 3.40984822e-09 -1.93620944e-09]\n",
      "wartośc minimum: 1.5375971862587842e-17\n"
     ]
    }
   ],
   "source": [
    "from scipy.optimize import minimize\n",
    "\n",
    "def func(x):\n",
    "    return np.sum(x**2)  #suma kwadratów\n",
    "\n",
    "# punkt startowy\n",
    "x0 = [10, 10.]\n",
    "# minimalizacja metodą nelder-mead, dostępnych wiele innych algorytmów\n",
    "res = minimize(func, x0, method='nelder-mead', options={'xtol': 1e-8, 'disp': True})\n",
    "print('punkt minimum:', res.x)\n",
    "print('wartośc minimum:', res.fun)"
   ]
  },
  {
   "cell_type": "markdown",
   "metadata": {
    "id": "d7ZnQBgp-p6a"
   },
   "source": [
    "### Interpolacja"
   ]
  },
  {
   "cell_type": "code",
   "execution_count": 96,
   "metadata": {
    "id": "BqfJsgQ_DfCG"
   },
   "outputs": [
    {
     "name": "stdout",
     "output_type": "stream",
     "text": [
      "(x,y): [(0.0, 0.0), (0.6666666666666666, 0.618369803069737), (1.3333333333333333, 0.9719379013633127), (2.0, 0.9092974268256817), (2.6666666666666665, 0.457272626635812), (3.333333333333333, -0.19056796287548494), (4.0, -0.7568024953079282), (4.666666666666666, -0.9989549170979283), (5.333333333333333, -0.81332939156758), (6.0, -0.27941549819892586)]\n",
      "w_coef: [-2.30789723e-06  6.51635883e-05 -6.22164834e-04  1.68627888e-03\n",
      "  4.01850111e-03  7.07819057e-03 -1.73781196e-01  3.92314156e-03\n",
      "  9.99113180e-01  0.00000000e+00]\n"
     ]
    }
   ],
   "source": [
    "from scipy.interpolate import lagrange\n",
    "\n",
    "# punkty interpolacji\n",
    "x = np.linspace(0.0,6.0,10) # 10 równorozłożonych punktów od 0 do 6\n",
    "y = np.sin(x)\n",
    "print('(x,y):',list(zip(x,y)))  #zip łączy elementy tablic w pary\n",
    "\n",
    "# wielomian interpolacyjny Lagrange'a, stopień taki jak liczba punktów\n",
    "w = lagrange(x, y)\n",
    "print('w_coef:', w.coef)"
   ]
  },
  {
   "cell_type": "markdown",
   "metadata": {
    "id": "hgZDDTSeD48V"
   },
   "source": [
    "## Matplotlib ( http://matplotlib.org/ )\n",
    "Moduł `matplotlib` to bardzo rozbudowana biblioteka do tworzenia najróżniejszych wykresów 2D i 3D (warto zaglądnąć do galerii przykładowych wykresów http://matplotlib.org/gallery.html)."
   ]
  },
  {
   "cell_type": "code",
   "execution_count": 97,
   "metadata": {
    "id": "hfbJP4U0De__"
   },
   "outputs": [],
   "source": [
    "# import modułu matplotlib\n",
    "import matplotlib.pyplot as plt\n",
    "import numpy as np\n",
    "# rysunki domyślnie powinny wyświetlać się w notatniku\n",
    "# gdyby tak nie było należy odkomentować poniższa linijkę\n",
    "#%matplotlib inline"
   ]
  },
  {
   "cell_type": "markdown",
   "metadata": {
    "id": "mwwEMQ6bEFB3"
   },
   "source": [
    "### Tworzenie wykresu\n",
    "Szybki wykres dla przykładu interpolacji funkcji sinus wielomianem lagrange'a."
   ]
  },
  {
   "cell_type": "code",
   "execution_count": 98,
   "metadata": {
    "id": "bNd1ueh0D3q9"
   },
   "outputs": [
    {
     "data": {
      "image/png": "[encoded data removed]",
      "text/plain": [
       "<Figure size 432x288 with 1 Axes>"
      ]
     },
     "metadata": {
      "needs_background": "light"
     },
     "output_type": "display_data"
    }
   ],
   "source": [
    "plt.figure()\n",
    "plt.plot(x, y, 'o')\n",
    "x2 = np.linspace(0.0,6.0,1000)\n",
    "y2 = w(x2)\n",
    "plt.plot(x2,y2, 'r')\n",
    "plt.show()"
   ]
  },
  {
   "cell_type": "markdown",
   "metadata": {
    "id": "XDBnY_yVERg_"
   },
   "source": [
    "Prosty przykład (jeden wykres na rysunku)."
   ]
  },
  {
   "cell_type": "code",
   "execution_count": 105,
   "metadata": {
    "id": "RQ1XK31iD35t"
   },
   "outputs": [
    {
     "data": {
      "image/png": "[encoded data removed]",
      "text/plain": [
       "<Figure size 432x288 with 1 Axes>"
      ]
     },
     "metadata": {
      "needs_background": "light"
     },
     "output_type": "display_data"
    }
   ],
   "source": [
    "# przykładowe dane\n",
    "x = np.linspace(1,10,100)\n",
    "y = np.sin(x)\n",
    "\n",
    "# tworzenie rysunku\n",
    "fig, ax = plt.subplots() #zwraca obiekt rysunku fig, i obiekt wykresu na rysunku ax\n",
    "# rysowanie wykresu\n",
    "ax.plot(x, y)\n",
    "# wyświetlenie rysunku\n",
    "plt.show()"
   ]
  },
  {
   "cell_type": "markdown",
   "metadata": {
    "id": "iAJfsASVEamD"
   },
   "source": [
    "### Modyfikowanie wyglądu"
   ]
  },
  {
   "cell_type": "code",
   "execution_count": 106,
   "metadata": {
    "id": "YUW94PY4D333"
   },
   "outputs": [
    {
     "data": {
      "image/png": "[encoded data removed]",
      "text/plain": [
       "<Figure size 432x288 with 1 Axes>"
      ]
     },
     "metadata": {
      "needs_background": "light"
     },
     "output_type": "display_data"
    }
   ],
   "source": [
    "# przykładowe dane\n",
    "x = np.linspace(1, 10, 100)\n",
    "y = np.sin(x)\n",
    "\n",
    "# tworzenie rysunku\n",
    "fig, ax = plt.subplots()\n",
    "# rysowanie wykresu\n",
    "ax.plot(x, y, c='r', marker='+', linestyle='-.', linewidth=5) #wiele innych opcji patrz w dokumentacji\n",
    "# wyświetlenie rysunku\n",
    "plt.show()"
   ]
  },
  {
   "cell_type": "markdown",
   "metadata": {
    "id": "9VboLNcREnTo"
   },
   "source": [
    "Dodanie tytułu, opisu osi, siatki i legendy."
   ]
  },
  {
   "cell_type": "code",
   "execution_count": 107,
   "metadata": {
    "id": "Xn4sZdJUD300"
   },
   "outputs": [
    {
     "data": {
      "image/png": "[encoded data removed]",
      "text/plain": [
       "<Figure size 432x288 with 1 Axes>"
      ]
     },
     "metadata": {
      "needs_background": "light"
     },
     "output_type": "display_data"
    }
   ],
   "source": [
    "# przykładowe dane\n",
    "x = np.linspace(1, 10, 100)\n",
    "y = np.sin(x)\n",
    "\n",
    "# tworzenie rysunku\n",
    "fig, ax = plt.subplots()\n",
    "# rysowanie wykresu\n",
    "ax.plot(x, y, c='r', linestyle='-.', label='sin(x)') #wiele innych opcji patrz w dokumentacji\n",
    "ax.legend() # dla legendy można ustalić pozycje podając argument 0,1,2,3 lub 4\n",
    "ax.set_title('Sin(x)')\n",
    "ax.set_xlabel('x')\n",
    "ax.set_ylabel('y')\n",
    "ax.grid(True)\n",
    "# wyświetlenie rysunku\n",
    "plt.show()"
   ]
  },
  {
   "cell_type": "markdown",
   "metadata": {
    "id": "5hza3UgVFBqn"
   },
   "source": [
    "Wartości na osiach dobierane są automatycznie jednak możemy to zmodyfikować."
   ]
  },
  {
   "cell_type": "code",
   "execution_count": 117,
   "metadata": {
    "id": "0ndjV3YVFAqi"
   },
   "outputs": [
    {
     "data": {
      "image/png": "[encoded data removed]",
      "text/plain": [
       "<Figure size 432x288 with 1 Axes>"
      ]
     },
     "metadata": {
      "needs_background": "light"
     },
     "output_type": "display_data"
    }
   ],
   "source": [
    "# przykładowe dane\n",
    "x = np.linspace(1, 10, 100)\n",
    "y = np.sin(x)\n",
    "\n",
    "# tworzenie rysunku\n",
    "fig, ax = plt.subplots()\n",
    "# rysowanie wykresu\n",
    "ax.plot(x, y, c='r', linestyle='-.', label='sin(x)') #wiele innych opcji patrz w dokumentacji\n",
    "ax.legend() # dla legendy mozna ustalic pozycje podając argument 0,1,2,3 lub 4\n",
    "ax.set_title('Sin(x)')\n",
    "ax.set_xlabel('x')\n",
    "ax.set_ylabel('y')\n",
    "ax.set_xlim(0,11)\n",
    "ax.set_ylim(-1.1,1.1)\n",
    "ax.grid(True)\n",
    "# wyświetlenie rysunku\n",
    "plt.show()"
   ]
  },
  {
   "cell_type": "markdown",
   "metadata": {
    "id": "7KQS-nHhFpBc"
   },
   "source": [
    "#### Wiele wykresów na jednym rysunku."
   ]
  },
  {
   "cell_type": "code",
   "execution_count": 118,
   "metadata": {
    "id": "EMZi9-wkFAx8"
   },
   "outputs": [
    {
     "data": {
      "image/png": "[encoded data removed]",
      "text/plain": [
       "<Figure size 432x288 with 2 Axes>"
      ]
     },
     "metadata": {
      "needs_background": "light"
     },
     "output_type": "display_data"
    }
   ],
   "source": [
    "# przykładowe dane\n",
    "x1 = np.linspace(1, 10, 100)\n",
    "y1 = np.sin(x)\n",
    "x2 = np.linspace(1, 10, 10)\n",
    "y2 = np.sin(x2)\n",
    "\n",
    "# tworzenie rysunku\n",
    "fig, (ax1, ax2) = plt.subplots(nrows=2, ncols=1) # dwa wykresy jeden pod drugim\n",
    "# rysowanie wykresu nr 1\n",
    "ax1.plot(x1, y1, c='r', linestyle='-.', label='sin(x)') #wiele innych opcji patrz w dokumentacji\n",
    "ax1.legend() # dla legendy mozna ustalic pozycje podając argument 0,1,2,3 lub 4\n",
    "ax1.set_title('Sin(x) nr 1')\n",
    "ax1.set_xlabel('x')\n",
    "ax1.set_ylabel('y')\n",
    "ax1.grid(True)\n",
    "# rysowanie wykresu nr 2\n",
    "ax2.scatter(x2, y2, color='r', label='sin(x)') #wiele innych opcji patrz w dokumentacji\n",
    "ax2.legend() # dla legendy mozna ustalic pozycje podając argument 0,1,2,3 lub 4\n",
    "ax2.set_title('Sin(x) nr 2')\n",
    "ax2.set_xlabel('x')\n",
    "ax2.set_ylabel('y')\n",
    "ax2.grid(True)\n",
    "\n",
    "# wyświetlenie rysunku\n",
    "plt.show()"
   ]
  },
  {
   "cell_type": "markdown",
   "metadata": {
    "id": "7bT1TtQ2Fyw3"
   },
   "source": [
    "Histogram."
   ]
  },
  {
   "cell_type": "code",
   "execution_count": 120,
   "metadata": {
    "id": "PC0djHYtFA1z"
   },
   "outputs": [
    {
     "data": {
      "image/png": "[encoded data removed]",
      "text/plain": [
       "<Figure size 432x288 with 2 Axes>"
      ]
     },
     "metadata": {
      "needs_background": "light"
     },
     "output_type": "display_data"
    }
   ],
   "source": [
    "# Aby mieć polskie znaki w tekstach na wykresie należy zmienic czcionkę\n",
    "plt.rcParams['font.family'] = 'DejaVu Sans'\n",
    "\n",
    "# przykładowe dane\n",
    "x = np.random.randn(100) # sto punktów ze standardowego rozkładu normalnego\n",
    "\n",
    "# tworzenie rysunku\n",
    "fig, (ax1, ax2) = plt.subplots(nrows=2, ncols=1) # dwa wykresy jeden pod drugim\n",
    "# rysowanie wykresu nr 1\n",
    "ax1.scatter(range(len(x)), x, color='r') \n",
    "ax1.set_title('Random')\n",
    "ax1.set_xlabel('nr')\n",
    "ax1.set_ylabel('y')\n",
    "ax1.grid(True)\n",
    "# rysowanie wykresu nr 2\n",
    "ax2.hist(x, 20) #wiele innych opcji patrz w dokumentacji\n",
    "ax2.set_xlabel('x')\n",
    "ax2.set_ylabel(u'częstość')\n",
    "ax2.grid(True)\n",
    "\n",
    "# wyświetlenie rysunku\n",
    "plt.show()"
   ]
  },
  {
   "cell_type": "markdown",
   "metadata": {
    "id": "_gXBuKWAF-iw"
   },
   "source": [
    "### Wykres 3D."
   ]
  },
  {
   "cell_type": "code",
   "execution_count": 121,
   "metadata": {
    "id": "ndFuJ57jFA_H"
   },
   "outputs": [
    {
     "data": {
      "image/png": "[encoded data removed]",
      "text/plain": [
       "<Figure size 432x288 with 1 Axes>"
      ]
     },
     "metadata": {
      "needs_background": "light"
     },
     "output_type": "display_data"
    }
   ],
   "source": [
    "from mpl_toolkits.mplot3d import Axes3D\n",
    "\n",
    "x = np.random.randn(100)\n",
    "y = np.random.randn(100)\n",
    "z = np.random.randn(100)\n",
    "\n",
    "fig = plt.figure()\n",
    "ax = fig.add_subplot(111, projection='3d')\n",
    "ax.scatter(x, y, z, c='r', marker='o')\n",
    "ax.set_xlabel('X')\n",
    "ax.set_ylabel('Y')\n",
    "ax.set_zlabel('Z')\n",
    "\n",
    "plt.show()"
   ]
  },
  {
   "cell_type": "markdown",
   "metadata": {
    "id": "8yRvNoosGURJ"
   },
   "source": [
    "Fajny przykład z galerii."
   ]
  },
  {
   "cell_type": "code",
   "execution_count": 123,
   "metadata": {
    "id": "pX3lNnABFAoA"
   },
   "outputs": [
    {
     "name": "stderr",
     "output_type": "stream",
     "text": [
      "C:\\Users\\MrChi\\AppData\\Local\\Temp/ipykernel_4072/2870819.py:6: MatplotlibDeprecationWarning: Calling gca() with keyword arguments was deprecated in Matplotlib 3.4. Starting two minor releases later, gca() will take no keyword arguments. The gca() function should only be used to get the current axes, or if no axes exist, create new axes with default keyword arguments. To create a new axes with non-default arguments, use plt.axes() or plt.subplot().\n",
      "  ax = fig.gca(projection='3d')\n"
     ]
    },
    {
     "data": {
      "image/png": "[encoded data removed]",
      "text/plain": [
       "<Figure size 432x288 with 1 Axes>"
      ]
     },
     "metadata": {
      "needs_background": "light"
     },
     "output_type": "display_data"
    }
   ],
   "source": [
    "from mpl_toolkits.mplot3d import axes3d\n",
    "import matplotlib.pyplot as plt\n",
    "from matplotlib import cm\n",
    "\n",
    "fig = plt.figure()\n",
    "ax = fig.gca(projection='3d')\n",
    "X, Y, Z = axes3d.get_test_data(0.05)\n",
    "ax.plot_surface(X, Y, Z, rstride=8, cstride=8, alpha=0.3)\n",
    "cset = ax.contour(X, Y, Z, zdir='z', offset=-100, cmap=cm.coolwarm)\n",
    "cset = ax.contour(X, Y, Z, zdir='x', offset=-40, cmap=cm.coolwarm)\n",
    "cset = ax.contour(X, Y, Z, zdir='y', offset=40, cmap=cm.coolwarm)\n",
    "\n",
    "ax.set_xlabel('X')\n",
    "ax.set_xlim(-40, 40)\n",
    "ax.set_ylabel('Y')\n",
    "ax.set_ylim(-40, 40)\n",
    "ax.set_zlabel('Z')\n",
    "ax.set_zlim(-100, 100)\n",
    "\n",
    "plt.show()"
   ]
  },
  {
   "cell_type": "markdown",
   "metadata": {
    "id": "ZCOmVQgFGc5h"
   },
   "source": [
    "## Pandas (http://pandas.pydata.org/)\n",
    "`Pandas` to moduł do szybkiego i wygodnego przetwarzania i analizowania danych w postaci tabel."
   ]
  },
  {
   "cell_type": "code",
   "execution_count": 124,
   "metadata": {
    "id": "e-AlWduYGPeB"
   },
   "outputs": [],
   "source": [
    "# import modułu pandas\n",
    "import pandas as pd"
   ]
  },
  {
   "cell_type": "markdown",
   "metadata": {
    "id": "53HCcRZ0Gl-u"
   },
   "source": [
    "### DataFrame\n",
    "Podstawowym obiektem modułu `pandas` jest `DataFrame`."
   ]
  },
  {
   "cell_type": "code",
   "execution_count": 125,
   "metadata": {
    "id": "vk9XCsR7GPbi"
   },
   "outputs": [],
   "source": [
    "# stworzenie obiektu dataframe\n",
    "df = pd.DataFrame([[1,2,3],[1,2,3]], columns=['A','B','C'])"
   ]
  },
  {
   "cell_type": "code",
   "execution_count": 126,
   "metadata": {
    "id": "p-Svfqo1GPY8"
   },
   "outputs": [
    {
     "data": {
      "text/html": [
       "<div>\n",
       "<style scoped>\n",
       "    .dataframe tbody tr th:only-of-type {\n",
       "        vertical-align: middle;\n",
       "    }\n",
       "\n",
       "    .dataframe tbody tr th {\n",
       "        vertical-align: top;\n",
       "    }\n",
       "\n",
       "    .dataframe thead th {\n",
       "        text-align: right;\n",
       "    }\n",
       "</style>\n",
       "<table border=\"1\" class=\"dataframe\">\n",
       "  <thead>\n",
       "    <tr style=\"text-align: right;\">\n",
       "      <th></th>\n",
       "      <th>A</th>\n",
       "      <th>B</th>\n",
       "      <th>C</th>\n",
       "    </tr>\n",
       "  </thead>\n",
       "  <tbody>\n",
       "    <tr>\n",
       "      <th>0</th>\n",
       "      <td>1</td>\n",
       "      <td>2</td>\n",
       "      <td>3</td>\n",
       "    </tr>\n",
       "    <tr>\n",
       "      <th>1</th>\n",
       "      <td>1</td>\n",
       "      <td>2</td>\n",
       "      <td>3</td>\n",
       "    </tr>\n",
       "  </tbody>\n",
       "</table>\n",
       "</div>"
      ],
      "text/plain": [
       "   A  B  C\n",
       "0  1  2  3\n",
       "1  1  2  3"
      ]
     },
     "execution_count": 126,
     "metadata": {},
     "output_type": "execute_result"
    }
   ],
   "source": [
    "df"
   ]
  },
  {
   "cell_type": "code",
   "execution_count": 128,
   "metadata": {
    "id": "EM_kH3_8ebuJ"
   },
   "outputs": [
    {
     "data": {
      "text/plain": [
       "array([[1, 2, 3],\n",
       "       [1, 2, 3]], dtype=int64)"
      ]
     },
     "execution_count": 128,
     "metadata": {},
     "output_type": "execute_result"
    }
   ],
   "source": [
    "df.values"
   ]
  },
  {
   "cell_type": "markdown",
   "metadata": {
    "id": "92aFJL6zHH18"
   },
   "source": [
    "Obiekt `DataFrame` możemy stworzyć bezpośrednio wczytując dane z pliku np. txt, csv, xls itp. \n",
    "\n",
    "Wykorzystywany w poniższych komórkach plik `titanic.xls` można wgrać bezpośredniu środowiska (Zakładka `Files`) lub na swój Google Drive i go połączyć ze śodowiskiem, jak poniżej:"
   ]
  },
  {
   "cell_type": "code",
   "execution_count": 139,
   "metadata": {
    "id": "7FuZFmzBDQUG",
    "scrolled": true
   },
   "outputs": [
    {
     "ename": "ModuleNotFoundError",
     "evalue": "No module named 'google'",
     "output_type": "error",
     "traceback": [
      "\u001b[1;31m---------------------------------------------------------------------------\u001b[0m",
      "\u001b[1;31mModuleNotFoundError\u001b[0m                       Traceback (most recent call last)",
      "\u001b[1;32m~\\AppData\\Local\\Temp/ipykernel_4072/3573260059.py\u001b[0m in \u001b[0;36m<module>\u001b[1;34m\u001b[0m\n\u001b[0;32m      1\u001b[0m \u001b[1;32mimport\u001b[0m \u001b[0msys\u001b[0m\u001b[1;33m\u001b[0m\u001b[1;33m\u001b[0m\u001b[0m\n\u001b[1;32m----> 2\u001b[1;33m \u001b[1;32mfrom\u001b[0m \u001b[0mgoogle\u001b[0m\u001b[1;33m.\u001b[0m\u001b[0mcolab\u001b[0m \u001b[1;32mimport\u001b[0m \u001b[0mdrive\u001b[0m\u001b[1;33m\u001b[0m\u001b[1;33m\u001b[0m\u001b[0m\n\u001b[0m\u001b[0;32m      3\u001b[0m \u001b[0mdrive\u001b[0m\u001b[1;33m.\u001b[0m\u001b[0mmount\u001b[0m\u001b[1;33m(\u001b[0m\u001b[1;34m'/content/drive'\u001b[0m\u001b[1;33m)\u001b[0m\u001b[1;33m\u001b[0m\u001b[1;33m\u001b[0m\u001b[0m\n\u001b[0;32m      4\u001b[0m \u001b[1;31m# upewniej się że poniższa ścieżka jest poprawna\u001b[0m\u001b[1;33m\u001b[0m\u001b[1;33m\u001b[0m\u001b[0m\n\u001b[0;32m      5\u001b[0m \u001b[0mpath_nb\u001b[0m \u001b[1;33m=\u001b[0m \u001b[1;34mr'/content/drive/My Drive/Colab Notebooks/WdSI_2021/T2_Lab_Python/'\u001b[0m\u001b[1;33m\u001b[0m\u001b[1;33m\u001b[0m\u001b[0m\n",
      "\u001b[1;31mModuleNotFoundError\u001b[0m: No module named 'google'"
     ]
    }
   ],
   "source": [
    "import sys\n",
    "from google.colab import drive\n",
    "drive.mount('/content/drive')\n",
    "# upewniej się że poniższa ścieżka jest poprawna\n",
    "path_nb = r'/content/drive/My Drive/Colab Notebooks/WdSI_2021/T2_Lab_Python/'\n",
    "sys.path.append(path_nb)"
   ]
  },
  {
   "cell_type": "code",
   "execution_count": 145,
   "metadata": {
    "id": "liKF-xJrGPWA"
   },
   "outputs": [],
   "source": [
    "# wczytanie danych z pliku xls\n",
    "\n",
    "df_titanic = pd.read_excel('titanic.xls')"
   ]
  },
  {
   "cell_type": "code",
   "execution_count": 146,
   "metadata": {
    "id": "PhNdcsRpEgp8"
   },
   "outputs": [
    {
     "data": {
      "text/html": [
       "<div>\n",
       "<style scoped>\n",
       "    .dataframe tbody tr th:only-of-type {\n",
       "        vertical-align: middle;\n",
       "    }\n",
       "\n",
       "    .dataframe tbody tr th {\n",
       "        vertical-align: top;\n",
       "    }\n",
       "\n",
       "    .dataframe thead th {\n",
       "        text-align: right;\n",
       "    }\n",
       "</style>\n",
       "<table border=\"1\" class=\"dataframe\">\n",
       "  <thead>\n",
       "    <tr style=\"text-align: right;\">\n",
       "      <th></th>\n",
       "      <th>pclass</th>\n",
       "      <th>survived</th>\n",
       "      <th>name</th>\n",
       "      <th>sex</th>\n",
       "      <th>age</th>\n",
       "      <th>sibsp</th>\n",
       "      <th>parch</th>\n",
       "      <th>ticket</th>\n",
       "      <th>fare</th>\n",
       "      <th>cabin</th>\n",
       "      <th>embarked</th>\n",
       "      <th>boat</th>\n",
       "      <th>body</th>\n",
       "      <th>home.dest</th>\n",
       "    </tr>\n",
       "  </thead>\n",
       "  <tbody>\n",
       "    <tr>\n",
       "      <th>0</th>\n",
       "      <td>1</td>\n",
       "      <td>1</td>\n",
       "      <td>Allen, Miss. Elisabeth Walton</td>\n",
       "      <td>female</td>\n",
       "      <td>29.0000</td>\n",
       "      <td>0</td>\n",
       "      <td>0</td>\n",
       "      <td>24160</td>\n",
       "      <td>211.3375</td>\n",
       "      <td>B5</td>\n",
       "      <td>S</td>\n",
       "      <td>2</td>\n",
       "      <td>NaN</td>\n",
       "      <td>St Louis, MO</td>\n",
       "    </tr>\n",
       "    <tr>\n",
       "      <th>1</th>\n",
       "      <td>1</td>\n",
       "      <td>1</td>\n",
       "      <td>Allison, Master. Hudson Trevor</td>\n",
       "      <td>male</td>\n",
       "      <td>0.9167</td>\n",
       "      <td>1</td>\n",
       "      <td>2</td>\n",
       "      <td>113781</td>\n",
       "      <td>151.5500</td>\n",
       "      <td>C22 C26</td>\n",
       "      <td>S</td>\n",
       "      <td>11</td>\n",
       "      <td>NaN</td>\n",
       "      <td>Montreal, PQ / Chesterville, ON</td>\n",
       "    </tr>\n",
       "    <tr>\n",
       "      <th>2</th>\n",
       "      <td>1</td>\n",
       "      <td>0</td>\n",
       "      <td>Allison, Miss. Helen Loraine</td>\n",
       "      <td>female</td>\n",
       "      <td>2.0000</td>\n",
       "      <td>1</td>\n",
       "      <td>2</td>\n",
       "      <td>113781</td>\n",
       "      <td>151.5500</td>\n",
       "      <td>C22 C26</td>\n",
       "      <td>S</td>\n",
       "      <td>NaN</td>\n",
       "      <td>NaN</td>\n",
       "      <td>Montreal, PQ / Chesterville, ON</td>\n",
       "    </tr>\n",
       "    <tr>\n",
       "      <th>3</th>\n",
       "      <td>1</td>\n",
       "      <td>0</td>\n",
       "      <td>Allison, Mr. Hudson Joshua Creighton</td>\n",
       "      <td>male</td>\n",
       "      <td>30.0000</td>\n",
       "      <td>1</td>\n",
       "      <td>2</td>\n",
       "      <td>113781</td>\n",
       "      <td>151.5500</td>\n",
       "      <td>C22 C26</td>\n",
       "      <td>S</td>\n",
       "      <td>NaN</td>\n",
       "      <td>135.0</td>\n",
       "      <td>Montreal, PQ / Chesterville, ON</td>\n",
       "    </tr>\n",
       "    <tr>\n",
       "      <th>4</th>\n",
       "      <td>1</td>\n",
       "      <td>0</td>\n",
       "      <td>Allison, Mrs. Hudson J C (Bessie Waldo Daniels)</td>\n",
       "      <td>female</td>\n",
       "      <td>25.0000</td>\n",
       "      <td>1</td>\n",
       "      <td>2</td>\n",
       "      <td>113781</td>\n",
       "      <td>151.5500</td>\n",
       "      <td>C22 C26</td>\n",
       "      <td>S</td>\n",
       "      <td>NaN</td>\n",
       "      <td>NaN</td>\n",
       "      <td>Montreal, PQ / Chesterville, ON</td>\n",
       "    </tr>\n",
       "    <tr>\n",
       "      <th>...</th>\n",
       "      <td>...</td>\n",
       "      <td>...</td>\n",
       "      <td>...</td>\n",
       "      <td>...</td>\n",
       "      <td>...</td>\n",
       "      <td>...</td>\n",
       "      <td>...</td>\n",
       "      <td>...</td>\n",
       "      <td>...</td>\n",
       "      <td>...</td>\n",
       "      <td>...</td>\n",
       "      <td>...</td>\n",
       "      <td>...</td>\n",
       "      <td>...</td>\n",
       "    </tr>\n",
       "    <tr>\n",
       "      <th>1304</th>\n",
       "      <td>3</td>\n",
       "      <td>0</td>\n",
       "      <td>Zabour, Miss. Hileni</td>\n",
       "      <td>female</td>\n",
       "      <td>14.5000</td>\n",
       "      <td>1</td>\n",
       "      <td>0</td>\n",
       "      <td>2665</td>\n",
       "      <td>14.4542</td>\n",
       "      <td>NaN</td>\n",
       "      <td>C</td>\n",
       "      <td>NaN</td>\n",
       "      <td>328.0</td>\n",
       "      <td>NaN</td>\n",
       "    </tr>\n",
       "    <tr>\n",
       "      <th>1305</th>\n",
       "      <td>3</td>\n",
       "      <td>0</td>\n",
       "      <td>Zabour, Miss. Thamine</td>\n",
       "      <td>female</td>\n",
       "      <td>NaN</td>\n",
       "      <td>1</td>\n",
       "      <td>0</td>\n",
       "      <td>2665</td>\n",
       "      <td>14.4542</td>\n",
       "      <td>NaN</td>\n",
       "      <td>C</td>\n",
       "      <td>NaN</td>\n",
       "      <td>NaN</td>\n",
       "      <td>NaN</td>\n",
       "    </tr>\n",
       "    <tr>\n",
       "      <th>1306</th>\n",
       "      <td>3</td>\n",
       "      <td>0</td>\n",
       "      <td>Zakarian, Mr. Mapriededer</td>\n",
       "      <td>male</td>\n",
       "      <td>26.5000</td>\n",
       "      <td>0</td>\n",
       "      <td>0</td>\n",
       "      <td>2656</td>\n",
       "      <td>7.2250</td>\n",
       "      <td>NaN</td>\n",
       "      <td>C</td>\n",
       "      <td>NaN</td>\n",
       "      <td>304.0</td>\n",
       "      <td>NaN</td>\n",
       "    </tr>\n",
       "    <tr>\n",
       "      <th>1307</th>\n",
       "      <td>3</td>\n",
       "      <td>0</td>\n",
       "      <td>Zakarian, Mr. Ortin</td>\n",
       "      <td>male</td>\n",
       "      <td>27.0000</td>\n",
       "      <td>0</td>\n",
       "      <td>0</td>\n",
       "      <td>2670</td>\n",
       "      <td>7.2250</td>\n",
       "      <td>NaN</td>\n",
       "      <td>C</td>\n",
       "      <td>NaN</td>\n",
       "      <td>NaN</td>\n",
       "      <td>NaN</td>\n",
       "    </tr>\n",
       "    <tr>\n",
       "      <th>1308</th>\n",
       "      <td>3</td>\n",
       "      <td>0</td>\n",
       "      <td>Zimmerman, Mr. Leo</td>\n",
       "      <td>male</td>\n",
       "      <td>29.0000</td>\n",
       "      <td>0</td>\n",
       "      <td>0</td>\n",
       "      <td>315082</td>\n",
       "      <td>7.8750</td>\n",
       "      <td>NaN</td>\n",
       "      <td>S</td>\n",
       "      <td>NaN</td>\n",
       "      <td>NaN</td>\n",
       "      <td>NaN</td>\n",
       "    </tr>\n",
       "  </tbody>\n",
       "</table>\n",
       "<p>1309 rows × 14 columns</p>\n",
       "</div>"
      ],
      "text/plain": [
       "      pclass  survived                                             name  \\\n",
       "0          1         1                    Allen, Miss. Elisabeth Walton   \n",
       "1          1         1                   Allison, Master. Hudson Trevor   \n",
       "2          1         0                     Allison, Miss. Helen Loraine   \n",
       "3          1         0             Allison, Mr. Hudson Joshua Creighton   \n",
       "4          1         0  Allison, Mrs. Hudson J C (Bessie Waldo Daniels)   \n",
       "...      ...       ...                                              ...   \n",
       "1304       3         0                             Zabour, Miss. Hileni   \n",
       "1305       3         0                            Zabour, Miss. Thamine   \n",
       "1306       3         0                        Zakarian, Mr. Mapriededer   \n",
       "1307       3         0                              Zakarian, Mr. Ortin   \n",
       "1308       3         0                               Zimmerman, Mr. Leo   \n",
       "\n",
       "         sex      age  sibsp  parch  ticket      fare    cabin embarked boat  \\\n",
       "0     female  29.0000      0      0   24160  211.3375       B5        S    2   \n",
       "1       male   0.9167      1      2  113781  151.5500  C22 C26        S   11   \n",
       "2     female   2.0000      1      2  113781  151.5500  C22 C26        S  NaN   \n",
       "3       male  30.0000      1      2  113781  151.5500  C22 C26        S  NaN   \n",
       "4     female  25.0000      1      2  113781  151.5500  C22 C26        S  NaN   \n",
       "...      ...      ...    ...    ...     ...       ...      ...      ...  ...   \n",
       "1304  female  14.5000      1      0    2665   14.4542      NaN        C  NaN   \n",
       "1305  female      NaN      1      0    2665   14.4542      NaN        C  NaN   \n",
       "1306    male  26.5000      0      0    2656    7.2250      NaN        C  NaN   \n",
       "1307    male  27.0000      0      0    2670    7.2250      NaN        C  NaN   \n",
       "1308    male  29.0000      0      0  315082    7.8750      NaN        S  NaN   \n",
       "\n",
       "       body                        home.dest  \n",
       "0       NaN                     St Louis, MO  \n",
       "1       NaN  Montreal, PQ / Chesterville, ON  \n",
       "2       NaN  Montreal, PQ / Chesterville, ON  \n",
       "3     135.0  Montreal, PQ / Chesterville, ON  \n",
       "4       NaN  Montreal, PQ / Chesterville, ON  \n",
       "...     ...                              ...  \n",
       "1304  328.0                              NaN  \n",
       "1305    NaN                              NaN  \n",
       "1306  304.0                              NaN  \n",
       "1307    NaN                              NaN  \n",
       "1308    NaN                              NaN  \n",
       "\n",
       "[1309 rows x 14 columns]"
      ]
     },
     "execution_count": 146,
     "metadata": {},
     "output_type": "execute_result"
    }
   ],
   "source": [
    "df_titanic"
   ]
  },
  {
   "cell_type": "code",
   "execution_count": 147,
   "metadata": {
    "id": "DaQ-6NHeGx94"
   },
   "outputs": [
    {
     "data": {
      "text/html": [
       "<div>\n",
       "<style scoped>\n",
       "    .dataframe tbody tr th:only-of-type {\n",
       "        vertical-align: middle;\n",
       "    }\n",
       "\n",
       "    .dataframe tbody tr th {\n",
       "        vertical-align: top;\n",
       "    }\n",
       "\n",
       "    .dataframe thead th {\n",
       "        text-align: right;\n",
       "    }\n",
       "</style>\n",
       "<table border=\"1\" class=\"dataframe\">\n",
       "  <thead>\n",
       "    <tr style=\"text-align: right;\">\n",
       "      <th></th>\n",
       "      <th>pclass</th>\n",
       "      <th>survived</th>\n",
       "      <th>name</th>\n",
       "      <th>sex</th>\n",
       "      <th>age</th>\n",
       "      <th>sibsp</th>\n",
       "      <th>parch</th>\n",
       "      <th>ticket</th>\n",
       "      <th>fare</th>\n",
       "      <th>cabin</th>\n",
       "      <th>embarked</th>\n",
       "      <th>boat</th>\n",
       "      <th>body</th>\n",
       "      <th>home.dest</th>\n",
       "    </tr>\n",
       "  </thead>\n",
       "  <tbody>\n",
       "    <tr>\n",
       "      <th>0</th>\n",
       "      <td>1</td>\n",
       "      <td>1</td>\n",
       "      <td>Allen, Miss. Elisabeth Walton</td>\n",
       "      <td>female</td>\n",
       "      <td>29.0000</td>\n",
       "      <td>0</td>\n",
       "      <td>0</td>\n",
       "      <td>24160</td>\n",
       "      <td>211.3375</td>\n",
       "      <td>B5</td>\n",
       "      <td>S</td>\n",
       "      <td>2</td>\n",
       "      <td>NaN</td>\n",
       "      <td>St Louis, MO</td>\n",
       "    </tr>\n",
       "    <tr>\n",
       "      <th>1</th>\n",
       "      <td>1</td>\n",
       "      <td>1</td>\n",
       "      <td>Allison, Master. Hudson Trevor</td>\n",
       "      <td>male</td>\n",
       "      <td>0.9167</td>\n",
       "      <td>1</td>\n",
       "      <td>2</td>\n",
       "      <td>113781</td>\n",
       "      <td>151.5500</td>\n",
       "      <td>C22 C26</td>\n",
       "      <td>S</td>\n",
       "      <td>11</td>\n",
       "      <td>NaN</td>\n",
       "      <td>Montreal, PQ / Chesterville, ON</td>\n",
       "    </tr>\n",
       "    <tr>\n",
       "      <th>2</th>\n",
       "      <td>1</td>\n",
       "      <td>0</td>\n",
       "      <td>Allison, Miss. Helen Loraine</td>\n",
       "      <td>female</td>\n",
       "      <td>2.0000</td>\n",
       "      <td>1</td>\n",
       "      <td>2</td>\n",
       "      <td>113781</td>\n",
       "      <td>151.5500</td>\n",
       "      <td>C22 C26</td>\n",
       "      <td>S</td>\n",
       "      <td>NaN</td>\n",
       "      <td>NaN</td>\n",
       "      <td>Montreal, PQ / Chesterville, ON</td>\n",
       "    </tr>\n",
       "    <tr>\n",
       "      <th>3</th>\n",
       "      <td>1</td>\n",
       "      <td>0</td>\n",
       "      <td>Allison, Mr. Hudson Joshua Creighton</td>\n",
       "      <td>male</td>\n",
       "      <td>30.0000</td>\n",
       "      <td>1</td>\n",
       "      <td>2</td>\n",
       "      <td>113781</td>\n",
       "      <td>151.5500</td>\n",
       "      <td>C22 C26</td>\n",
       "      <td>S</td>\n",
       "      <td>NaN</td>\n",
       "      <td>135.0</td>\n",
       "      <td>Montreal, PQ / Chesterville, ON</td>\n",
       "    </tr>\n",
       "    <tr>\n",
       "      <th>4</th>\n",
       "      <td>1</td>\n",
       "      <td>0</td>\n",
       "      <td>Allison, Mrs. Hudson J C (Bessie Waldo Daniels)</td>\n",
       "      <td>female</td>\n",
       "      <td>25.0000</td>\n",
       "      <td>1</td>\n",
       "      <td>2</td>\n",
       "      <td>113781</td>\n",
       "      <td>151.5500</td>\n",
       "      <td>C22 C26</td>\n",
       "      <td>S</td>\n",
       "      <td>NaN</td>\n",
       "      <td>NaN</td>\n",
       "      <td>Montreal, PQ / Chesterville, ON</td>\n",
       "    </tr>\n",
       "    <tr>\n",
       "      <th>5</th>\n",
       "      <td>1</td>\n",
       "      <td>1</td>\n",
       "      <td>Anderson, Mr. Harry</td>\n",
       "      <td>male</td>\n",
       "      <td>48.0000</td>\n",
       "      <td>0</td>\n",
       "      <td>0</td>\n",
       "      <td>19952</td>\n",
       "      <td>26.5500</td>\n",
       "      <td>E12</td>\n",
       "      <td>S</td>\n",
       "      <td>3</td>\n",
       "      <td>NaN</td>\n",
       "      <td>New York, NY</td>\n",
       "    </tr>\n",
       "  </tbody>\n",
       "</table>\n",
       "</div>"
      ],
      "text/plain": [
       "   pclass  survived                                             name     sex  \\\n",
       "0       1         1                    Allen, Miss. Elisabeth Walton  female   \n",
       "1       1         1                   Allison, Master. Hudson Trevor    male   \n",
       "2       1         0                     Allison, Miss. Helen Loraine  female   \n",
       "3       1         0             Allison, Mr. Hudson Joshua Creighton    male   \n",
       "4       1         0  Allison, Mrs. Hudson J C (Bessie Waldo Daniels)  female   \n",
       "5       1         1                              Anderson, Mr. Harry    male   \n",
       "\n",
       "       age  sibsp  parch  ticket      fare    cabin embarked boat   body  \\\n",
       "0  29.0000      0      0   24160  211.3375       B5        S    2    NaN   \n",
       "1   0.9167      1      2  113781  151.5500  C22 C26        S   11    NaN   \n",
       "2   2.0000      1      2  113781  151.5500  C22 C26        S  NaN    NaN   \n",
       "3  30.0000      1      2  113781  151.5500  C22 C26        S  NaN  135.0   \n",
       "4  25.0000      1      2  113781  151.5500  C22 C26        S  NaN    NaN   \n",
       "5  48.0000      0      0   19952   26.5500      E12        S    3    NaN   \n",
       "\n",
       "                         home.dest  \n",
       "0                     St Louis, MO  \n",
       "1  Montreal, PQ / Chesterville, ON  \n",
       "2  Montreal, PQ / Chesterville, ON  \n",
       "3  Montreal, PQ / Chesterville, ON  \n",
       "4  Montreal, PQ / Chesterville, ON  \n",
       "5                     New York, NY  "
      ]
     },
     "execution_count": 147,
     "metadata": {},
     "output_type": "execute_result"
    }
   ],
   "source": [
    "# wyświetlenie pierwszych n wierszy\n",
    "df_titanic.head(6)"
   ]
  },
  {
   "cell_type": "code",
   "execution_count": 148,
   "metadata": {
    "id": "ybBKx_vlGyBZ"
   },
   "outputs": [
    {
     "data": {
      "text/html": [
       "<div>\n",
       "<style scoped>\n",
       "    .dataframe tbody tr th:only-of-type {\n",
       "        vertical-align: middle;\n",
       "    }\n",
       "\n",
       "    .dataframe tbody tr th {\n",
       "        vertical-align: top;\n",
       "    }\n",
       "\n",
       "    .dataframe thead th {\n",
       "        text-align: right;\n",
       "    }\n",
       "</style>\n",
       "<table border=\"1\" class=\"dataframe\">\n",
       "  <thead>\n",
       "    <tr style=\"text-align: right;\">\n",
       "      <th></th>\n",
       "      <th>pclass</th>\n",
       "      <th>survived</th>\n",
       "      <th>name</th>\n",
       "      <th>sex</th>\n",
       "      <th>age</th>\n",
       "      <th>sibsp</th>\n",
       "      <th>parch</th>\n",
       "      <th>ticket</th>\n",
       "      <th>fare</th>\n",
       "      <th>cabin</th>\n",
       "      <th>embarked</th>\n",
       "      <th>boat</th>\n",
       "      <th>body</th>\n",
       "      <th>home.dest</th>\n",
       "    </tr>\n",
       "  </thead>\n",
       "  <tbody>\n",
       "    <tr>\n",
       "      <th>1303</th>\n",
       "      <td>3</td>\n",
       "      <td>0</td>\n",
       "      <td>Yousseff, Mr. Gerious</td>\n",
       "      <td>male</td>\n",
       "      <td>NaN</td>\n",
       "      <td>0</td>\n",
       "      <td>0</td>\n",
       "      <td>2627</td>\n",
       "      <td>14.4583</td>\n",
       "      <td>NaN</td>\n",
       "      <td>C</td>\n",
       "      <td>NaN</td>\n",
       "      <td>NaN</td>\n",
       "      <td>NaN</td>\n",
       "    </tr>\n",
       "    <tr>\n",
       "      <th>1304</th>\n",
       "      <td>3</td>\n",
       "      <td>0</td>\n",
       "      <td>Zabour, Miss. Hileni</td>\n",
       "      <td>female</td>\n",
       "      <td>14.5</td>\n",
       "      <td>1</td>\n",
       "      <td>0</td>\n",
       "      <td>2665</td>\n",
       "      <td>14.4542</td>\n",
       "      <td>NaN</td>\n",
       "      <td>C</td>\n",
       "      <td>NaN</td>\n",
       "      <td>328.0</td>\n",
       "      <td>NaN</td>\n",
       "    </tr>\n",
       "    <tr>\n",
       "      <th>1305</th>\n",
       "      <td>3</td>\n",
       "      <td>0</td>\n",
       "      <td>Zabour, Miss. Thamine</td>\n",
       "      <td>female</td>\n",
       "      <td>NaN</td>\n",
       "      <td>1</td>\n",
       "      <td>0</td>\n",
       "      <td>2665</td>\n",
       "      <td>14.4542</td>\n",
       "      <td>NaN</td>\n",
       "      <td>C</td>\n",
       "      <td>NaN</td>\n",
       "      <td>NaN</td>\n",
       "      <td>NaN</td>\n",
       "    </tr>\n",
       "    <tr>\n",
       "      <th>1306</th>\n",
       "      <td>3</td>\n",
       "      <td>0</td>\n",
       "      <td>Zakarian, Mr. Mapriededer</td>\n",
       "      <td>male</td>\n",
       "      <td>26.5</td>\n",
       "      <td>0</td>\n",
       "      <td>0</td>\n",
       "      <td>2656</td>\n",
       "      <td>7.2250</td>\n",
       "      <td>NaN</td>\n",
       "      <td>C</td>\n",
       "      <td>NaN</td>\n",
       "      <td>304.0</td>\n",
       "      <td>NaN</td>\n",
       "    </tr>\n",
       "    <tr>\n",
       "      <th>1307</th>\n",
       "      <td>3</td>\n",
       "      <td>0</td>\n",
       "      <td>Zakarian, Mr. Ortin</td>\n",
       "      <td>male</td>\n",
       "      <td>27.0</td>\n",
       "      <td>0</td>\n",
       "      <td>0</td>\n",
       "      <td>2670</td>\n",
       "      <td>7.2250</td>\n",
       "      <td>NaN</td>\n",
       "      <td>C</td>\n",
       "      <td>NaN</td>\n",
       "      <td>NaN</td>\n",
       "      <td>NaN</td>\n",
       "    </tr>\n",
       "    <tr>\n",
       "      <th>1308</th>\n",
       "      <td>3</td>\n",
       "      <td>0</td>\n",
       "      <td>Zimmerman, Mr. Leo</td>\n",
       "      <td>male</td>\n",
       "      <td>29.0</td>\n",
       "      <td>0</td>\n",
       "      <td>0</td>\n",
       "      <td>315082</td>\n",
       "      <td>7.8750</td>\n",
       "      <td>NaN</td>\n",
       "      <td>S</td>\n",
       "      <td>NaN</td>\n",
       "      <td>NaN</td>\n",
       "      <td>NaN</td>\n",
       "    </tr>\n",
       "  </tbody>\n",
       "</table>\n",
       "</div>"
      ],
      "text/plain": [
       "      pclass  survived                       name     sex   age  sibsp  parch  \\\n",
       "1303       3         0      Yousseff, Mr. Gerious    male   NaN      0      0   \n",
       "1304       3         0       Zabour, Miss. Hileni  female  14.5      1      0   \n",
       "1305       3         0      Zabour, Miss. Thamine  female   NaN      1      0   \n",
       "1306       3         0  Zakarian, Mr. Mapriededer    male  26.5      0      0   \n",
       "1307       3         0        Zakarian, Mr. Ortin    male  27.0      0      0   \n",
       "1308       3         0         Zimmerman, Mr. Leo    male  29.0      0      0   \n",
       "\n",
       "      ticket     fare cabin embarked boat   body home.dest  \n",
       "1303    2627  14.4583   NaN        C  NaN    NaN       NaN  \n",
       "1304    2665  14.4542   NaN        C  NaN  328.0       NaN  \n",
       "1305    2665  14.4542   NaN        C  NaN    NaN       NaN  \n",
       "1306    2656   7.2250   NaN        C  NaN  304.0       NaN  \n",
       "1307    2670   7.2250   NaN        C  NaN    NaN       NaN  \n",
       "1308  315082   7.8750   NaN        S  NaN    NaN       NaN  "
      ]
     },
     "execution_count": 148,
     "metadata": {},
     "output_type": "execute_result"
    }
   ],
   "source": [
    "# wyświetlenie ostatnich n wierszy\n",
    "df_titanic.tail(6)"
   ]
  },
  {
   "cell_type": "code",
   "execution_count": 149,
   "metadata": {
    "id": "zxDXy7n2Gx7r"
   },
   "outputs": [
    {
     "data": {
      "text/html": [
       "<div>\n",
       "<style scoped>\n",
       "    .dataframe tbody tr th:only-of-type {\n",
       "        vertical-align: middle;\n",
       "    }\n",
       "\n",
       "    .dataframe tbody tr th {\n",
       "        vertical-align: top;\n",
       "    }\n",
       "\n",
       "    .dataframe thead th {\n",
       "        text-align: right;\n",
       "    }\n",
       "</style>\n",
       "<table border=\"1\" class=\"dataframe\">\n",
       "  <thead>\n",
       "    <tr style=\"text-align: right;\">\n",
       "      <th></th>\n",
       "      <th>count</th>\n",
       "      <th>mean</th>\n",
       "      <th>std</th>\n",
       "      <th>min</th>\n",
       "      <th>25%</th>\n",
       "      <th>50%</th>\n",
       "      <th>75%</th>\n",
       "      <th>max</th>\n",
       "    </tr>\n",
       "  </thead>\n",
       "  <tbody>\n",
       "    <tr>\n",
       "      <th>pclass</th>\n",
       "      <td>1309.0</td>\n",
       "      <td>2.294882</td>\n",
       "      <td>0.837836</td>\n",
       "      <td>1.0000</td>\n",
       "      <td>2.0000</td>\n",
       "      <td>3.0000</td>\n",
       "      <td>3.000</td>\n",
       "      <td>3.0000</td>\n",
       "    </tr>\n",
       "    <tr>\n",
       "      <th>survived</th>\n",
       "      <td>1309.0</td>\n",
       "      <td>0.381971</td>\n",
       "      <td>0.486055</td>\n",
       "      <td>0.0000</td>\n",
       "      <td>0.0000</td>\n",
       "      <td>0.0000</td>\n",
       "      <td>1.000</td>\n",
       "      <td>1.0000</td>\n",
       "    </tr>\n",
       "    <tr>\n",
       "      <th>age</th>\n",
       "      <td>1046.0</td>\n",
       "      <td>29.881135</td>\n",
       "      <td>14.413500</td>\n",
       "      <td>0.1667</td>\n",
       "      <td>21.0000</td>\n",
       "      <td>28.0000</td>\n",
       "      <td>39.000</td>\n",
       "      <td>80.0000</td>\n",
       "    </tr>\n",
       "    <tr>\n",
       "      <th>sibsp</th>\n",
       "      <td>1309.0</td>\n",
       "      <td>0.498854</td>\n",
       "      <td>1.041658</td>\n",
       "      <td>0.0000</td>\n",
       "      <td>0.0000</td>\n",
       "      <td>0.0000</td>\n",
       "      <td>1.000</td>\n",
       "      <td>8.0000</td>\n",
       "    </tr>\n",
       "    <tr>\n",
       "      <th>parch</th>\n",
       "      <td>1309.0</td>\n",
       "      <td>0.385027</td>\n",
       "      <td>0.865560</td>\n",
       "      <td>0.0000</td>\n",
       "      <td>0.0000</td>\n",
       "      <td>0.0000</td>\n",
       "      <td>0.000</td>\n",
       "      <td>9.0000</td>\n",
       "    </tr>\n",
       "    <tr>\n",
       "      <th>fare</th>\n",
       "      <td>1308.0</td>\n",
       "      <td>33.295479</td>\n",
       "      <td>51.758668</td>\n",
       "      <td>0.0000</td>\n",
       "      <td>7.8958</td>\n",
       "      <td>14.4542</td>\n",
       "      <td>31.275</td>\n",
       "      <td>512.3292</td>\n",
       "    </tr>\n",
       "    <tr>\n",
       "      <th>body</th>\n",
       "      <td>121.0</td>\n",
       "      <td>160.809917</td>\n",
       "      <td>97.696922</td>\n",
       "      <td>1.0000</td>\n",
       "      <td>72.0000</td>\n",
       "      <td>155.0000</td>\n",
       "      <td>256.000</td>\n",
       "      <td>328.0000</td>\n",
       "    </tr>\n",
       "  </tbody>\n",
       "</table>\n",
       "</div>"
      ],
      "text/plain": [
       "           count        mean        std     min      25%       50%      75%  \\\n",
       "pclass    1309.0    2.294882   0.837836  1.0000   2.0000    3.0000    3.000   \n",
       "survived  1309.0    0.381971   0.486055  0.0000   0.0000    0.0000    1.000   \n",
       "age       1046.0   29.881135  14.413500  0.1667  21.0000   28.0000   39.000   \n",
       "sibsp     1309.0    0.498854   1.041658  0.0000   0.0000    0.0000    1.000   \n",
       "parch     1309.0    0.385027   0.865560  0.0000   0.0000    0.0000    0.000   \n",
       "fare      1308.0   33.295479  51.758668  0.0000   7.8958   14.4542   31.275   \n",
       "body       121.0  160.809917  97.696922  1.0000  72.0000  155.0000  256.000   \n",
       "\n",
       "               max  \n",
       "pclass      3.0000  \n",
       "survived    1.0000  \n",
       "age        80.0000  \n",
       "sibsp       8.0000  \n",
       "parch       9.0000  \n",
       "fare      512.3292  \n",
       "body      328.0000  "
      ]
     },
     "execution_count": 149,
     "metadata": {},
     "output_type": "execute_result"
    }
   ],
   "source": [
    "# wyświetlenie podstawowych statystyk\n",
    "df_titanic.describe().T  #transpozycja dla lepszej czytelności\n",
    "# wyniki tylko dla kolumn zawierających dane liczbowe"
   ]
  },
  {
   "cell_type": "code",
   "execution_count": 150,
   "metadata": {
    "id": "1CmQ35V0Gx5F"
   },
   "outputs": [
    {
     "data": {
      "text/plain": [
       "0    29.0000\n",
       "1     0.9167\n",
       "2     2.0000\n",
       "3    30.0000\n",
       "4    25.0000\n",
       "5    48.0000\n",
       "6    63.0000\n",
       "7    39.0000\n",
       "8    53.0000\n",
       "9    71.0000\n",
       "Name: age, dtype: float64"
      ]
     },
     "execution_count": 150,
     "metadata": {},
     "output_type": "execute_result"
    }
   ],
   "source": [
    "# odwołanie do konkretnej kolumny\n",
    "df_titanic['age'][:10]  # pierwsze 10"
   ]
  },
  {
   "cell_type": "code",
   "execution_count": 151,
   "metadata": {
    "id": "PjKQTjcAHPch"
   },
   "outputs": [
    {
     "data": {
      "text/plain": [
       "0    29.0000\n",
       "1     0.9167\n",
       "2     2.0000\n",
       "3    30.0000\n",
       "4    25.0000\n",
       "5    48.0000\n",
       "6    63.0000\n",
       "7    39.0000\n",
       "8    53.0000\n",
       "9    71.0000\n",
       "Name: age, dtype: float64"
      ]
     },
     "execution_count": 151,
     "metadata": {},
     "output_type": "execute_result"
    }
   ],
   "source": [
    "# to samo uzyskamy pisząc\n",
    "df_titanic.age[:10]"
   ]
  },
  {
   "cell_type": "code",
   "execution_count": 152,
   "metadata": {
    "id": "1OsDVEESHPnC"
   },
   "outputs": [
    {
     "data": {
      "text/plain": [
       "Index(['pclass', 'survived', 'name', 'sex', 'age', 'sibsp', 'parch', 'ticket',\n",
       "       'fare', 'cabin', 'embarked', 'boat', 'body', 'home.dest'],\n",
       "      dtype='object')"
      ]
     },
     "execution_count": 152,
     "metadata": {},
     "output_type": "execute_result"
    }
   ],
   "source": [
    "# lista nazw kolumn\n",
    "df_titanic.columns"
   ]
  },
  {
   "cell_type": "markdown",
   "metadata": {
    "id": "GXRlaladHdO_"
   },
   "source": [
    "Brakujące dane w komórkach zastępowane są poprzez obiekt `NaN`."
   ]
  },
  {
   "cell_type": "code",
   "execution_count": 153,
   "metadata": {
    "id": "F9eILcYHHPq4"
   },
   "outputs": [
    {
     "data": {
      "text/plain": [
       "pclass          0\n",
       "survived        0\n",
       "name            0\n",
       "sex             0\n",
       "age           263\n",
       "sibsp           0\n",
       "parch           0\n",
       "ticket          0\n",
       "fare            1\n",
       "cabin        1014\n",
       "embarked        2\n",
       "boat          823\n",
       "body         1188\n",
       "home.dest     564\n",
       "dtype: int64"
      ]
     },
     "execution_count": 153,
     "metadata": {},
     "output_type": "execute_result"
    }
   ],
   "source": [
    "# policzenie liczby brakujących wartości w poszczególnych kolumnach\n",
    "df_titanic.apply(lambda x: sum(x.isnull()),axis=0)"
   ]
  },
  {
   "cell_type": "code",
   "execution_count": 154,
   "metadata": {
    "id": "BUtm1t24HPkj"
   },
   "outputs": [
    {
     "data": {
      "text/plain": [
       "pclass       0\n",
       "survived     0\n",
       "name         0\n",
       "sex          0\n",
       "age          0\n",
       "sibsp        0\n",
       "parch        0\n",
       "ticket       0\n",
       "fare         0\n",
       "cabin        0\n",
       "embarked     0\n",
       "boat         0\n",
       "body         0\n",
       "home.dest    0\n",
       "dtype: int64"
      ]
     },
     "execution_count": 154,
     "metadata": {},
     "output_type": "execute_result"
    }
   ],
   "source": [
    "# brakujące dane możemy zastąpić ustaloną wartością np. -1\n",
    "df_titanic.fillna(-1, inplace=True)\n",
    "df_titanic.apply(lambda x: sum(x.isnull()),axis=0)"
   ]
  },
  {
   "cell_type": "code",
   "execution_count": 155,
   "metadata": {
    "id": "1hdyyBIqHPi4"
   },
   "outputs": [
    {
     "data": {
      "text/html": [
       "<div>\n",
       "<style scoped>\n",
       "    .dataframe tbody tr th:only-of-type {\n",
       "        vertical-align: middle;\n",
       "    }\n",
       "\n",
       "    .dataframe tbody tr th {\n",
       "        vertical-align: top;\n",
       "    }\n",
       "\n",
       "    .dataframe thead th {\n",
       "        text-align: right;\n",
       "    }\n",
       "</style>\n",
       "<table border=\"1\" class=\"dataframe\">\n",
       "  <thead>\n",
       "    <tr style=\"text-align: right;\">\n",
       "      <th></th>\n",
       "      <th>name</th>\n",
       "      <th>age</th>\n",
       "    </tr>\n",
       "  </thead>\n",
       "  <tbody>\n",
       "    <tr>\n",
       "      <th>0</th>\n",
       "      <td>Allen, Miss. Elisabeth Walton</td>\n",
       "      <td>29.0000</td>\n",
       "    </tr>\n",
       "    <tr>\n",
       "      <th>1</th>\n",
       "      <td>Allison, Master. Hudson Trevor</td>\n",
       "      <td>0.9167</td>\n",
       "    </tr>\n",
       "    <tr>\n",
       "      <th>2</th>\n",
       "      <td>Allison, Miss. Helen Loraine</td>\n",
       "      <td>2.0000</td>\n",
       "    </tr>\n",
       "    <tr>\n",
       "      <th>3</th>\n",
       "      <td>Allison, Mr. Hudson Joshua Creighton</td>\n",
       "      <td>30.0000</td>\n",
       "    </tr>\n",
       "    <tr>\n",
       "      <th>4</th>\n",
       "      <td>Allison, Mrs. Hudson J C (Bessie Waldo Daniels)</td>\n",
       "      <td>25.0000</td>\n",
       "    </tr>\n",
       "  </tbody>\n",
       "</table>\n",
       "</div>"
      ],
      "text/plain": [
       "                                              name      age\n",
       "0                    Allen, Miss. Elisabeth Walton  29.0000\n",
       "1                   Allison, Master. Hudson Trevor   0.9167\n",
       "2                     Allison, Miss. Helen Loraine   2.0000\n",
       "3             Allison, Mr. Hudson Joshua Creighton  30.0000\n",
       "4  Allison, Mrs. Hudson J C (Bessie Waldo Daniels)  25.0000"
      ]
     },
     "execution_count": 155,
     "metadata": {},
     "output_type": "execute_result"
    }
   ],
   "source": [
    "# wybieranie kilku kolumn\n",
    "df_titanic2 = df_titanic[['name','age']]\n",
    "df_titanic2.head()"
   ]
  },
  {
   "cell_type": "code",
   "execution_count": 156,
   "metadata": {
    "id": "u_XloZBHHPgS"
   },
   "outputs": [
    {
     "name": "stderr",
     "output_type": "stream",
     "text": [
      "C:\\Users\\MrChi\\AppData\\Local\\Temp/ipykernel_4072/2553783485.py:2: FutureWarning: In a future version of pandas all arguments of DataFrame.drop except for the argument 'labels' will be keyword-only\n",
      "  df_titanic = df_titanic.drop(['name','cabin','boat', 'body', 'ticket', 'home.dest'], 1)\n"
     ]
    },
    {
     "data": {
      "text/html": [
       "<div>\n",
       "<style scoped>\n",
       "    .dataframe tbody tr th:only-of-type {\n",
       "        vertical-align: middle;\n",
       "    }\n",
       "\n",
       "    .dataframe tbody tr th {\n",
       "        vertical-align: top;\n",
       "    }\n",
       "\n",
       "    .dataframe thead th {\n",
       "        text-align: right;\n",
       "    }\n",
       "</style>\n",
       "<table border=\"1\" class=\"dataframe\">\n",
       "  <thead>\n",
       "    <tr style=\"text-align: right;\">\n",
       "      <th></th>\n",
       "      <th>pclass</th>\n",
       "      <th>survived</th>\n",
       "      <th>sex</th>\n",
       "      <th>age</th>\n",
       "      <th>sibsp</th>\n",
       "      <th>parch</th>\n",
       "      <th>fare</th>\n",
       "      <th>embarked</th>\n",
       "    </tr>\n",
       "  </thead>\n",
       "  <tbody>\n",
       "    <tr>\n",
       "      <th>0</th>\n",
       "      <td>1</td>\n",
       "      <td>1</td>\n",
       "      <td>female</td>\n",
       "      <td>29.0000</td>\n",
       "      <td>0</td>\n",
       "      <td>0</td>\n",
       "      <td>211.3375</td>\n",
       "      <td>S</td>\n",
       "    </tr>\n",
       "    <tr>\n",
       "      <th>1</th>\n",
       "      <td>1</td>\n",
       "      <td>1</td>\n",
       "      <td>male</td>\n",
       "      <td>0.9167</td>\n",
       "      <td>1</td>\n",
       "      <td>2</td>\n",
       "      <td>151.5500</td>\n",
       "      <td>S</td>\n",
       "    </tr>\n",
       "    <tr>\n",
       "      <th>2</th>\n",
       "      <td>1</td>\n",
       "      <td>0</td>\n",
       "      <td>female</td>\n",
       "      <td>2.0000</td>\n",
       "      <td>1</td>\n",
       "      <td>2</td>\n",
       "      <td>151.5500</td>\n",
       "      <td>S</td>\n",
       "    </tr>\n",
       "    <tr>\n",
       "      <th>3</th>\n",
       "      <td>1</td>\n",
       "      <td>0</td>\n",
       "      <td>male</td>\n",
       "      <td>30.0000</td>\n",
       "      <td>1</td>\n",
       "      <td>2</td>\n",
       "      <td>151.5500</td>\n",
       "      <td>S</td>\n",
       "    </tr>\n",
       "    <tr>\n",
       "      <th>4</th>\n",
       "      <td>1</td>\n",
       "      <td>0</td>\n",
       "      <td>female</td>\n",
       "      <td>25.0000</td>\n",
       "      <td>1</td>\n",
       "      <td>2</td>\n",
       "      <td>151.5500</td>\n",
       "      <td>S</td>\n",
       "    </tr>\n",
       "  </tbody>\n",
       "</table>\n",
       "</div>"
      ],
      "text/plain": [
       "   pclass  survived     sex      age  sibsp  parch      fare embarked\n",
       "0       1         1  female  29.0000      0      0  211.3375        S\n",
       "1       1         1    male   0.9167      1      2  151.5500        S\n",
       "2       1         0  female   2.0000      1      2  151.5500        S\n",
       "3       1         0    male  30.0000      1      2  151.5500        S\n",
       "4       1         0  female  25.0000      1      2  151.5500        S"
      ]
     },
     "execution_count": 156,
     "metadata": {},
     "output_type": "execute_result"
    }
   ],
   "source": [
    "# usuwanie kolumn\n",
    "df_titanic = df_titanic.drop(['name','cabin','boat', 'body', 'ticket', 'home.dest'], 1)\n",
    "df_titanic.head()"
   ]
  },
  {
   "cell_type": "code",
   "execution_count": 157,
   "metadata": {
    "id": "GUgNjRenEPwE"
   },
   "outputs": [
    {
     "name": "stdout",
     "output_type": "stream",
     "text": [
      "pclass [1 2 3]\n",
      "survived [1 0]\n",
      "sex ['female' 'male']\n",
      "age [29.      0.9167  2.     30.     25.     48.     63.     39.     53.\n",
      " 71.     47.     18.     24.     26.     80.     -1.     50.     32.\n",
      " 36.     37.     42.     19.     35.     28.     45.     40.     58.\n",
      " 22.     41.     44.     59.     60.     33.     17.     11.     14.\n",
      " 49.     76.     46.     27.     64.     55.     70.     38.     51.\n",
      " 31.      4.     54.     23.     43.     52.     16.     32.5    21.\n",
      " 15.     65.     28.5    45.5    56.     13.     61.     34.      6.\n",
      " 57.     62.     67.      1.     12.     20.      0.8333  8.      0.6667\n",
      "  7.      3.     36.5    18.5     5.     66.      9.      0.75   70.5\n",
      " 22.5     0.3333  0.1667 40.5    10.     23.5    34.5    20.5    30.5\n",
      " 55.5    38.5    14.5    24.5    60.5    74.      0.4167 11.5    26.5   ]\n",
      "sibsp [0 1 2 3 4 5 8]\n",
      "parch [0 2 1 4 3 5 6 9]\n",
      "fare [211.3375 151.55    26.55    77.9583   0.      51.4792  49.5042 227.525\n",
      "  69.3     78.85    30.      25.925  247.5208  76.2917  75.2417  52.5542\n",
      " 221.7792  26.      91.0792 135.6333  35.5     31.     164.8667 262.375\n",
      "  55.      30.5     50.4958  39.6     27.7208 134.5     26.2875  27.4458\n",
      " 512.3292   5.      47.1    120.      61.175   53.1     86.5     29.7\n",
      " 136.7792  52.      25.5875  83.1583  25.7     71.      71.2833  57.\n",
      "  81.8583 106.425   56.9292  78.2667  31.6792  31.6833 110.8833  26.3875\n",
      "  27.75   263.     133.65    49.5     79.2     38.5    211.5     59.4\n",
      "  89.1042  34.6542  28.5    153.4625  63.3583  55.4417  76.7292  42.4\n",
      "  83.475   93.5     42.5     51.8625  50.      57.9792  90.      30.6958\n",
      "  80.      28.7125  25.9292  39.4     45.5    146.5208  82.1708  57.75\n",
      " 113.275   26.2833 108.9     25.7417  61.9792  66.6     40.125   55.9\n",
      "  60.      82.2667  32.3208  79.65    28.5375  33.5     34.0208  75.25\n",
      "  77.2875  61.3792  35.      24.      13.      11.5     10.5     12.525\n",
      "  39.      29.      21.      13.5     26.25    36.75    73.5     31.5\n",
      "  23.      32.5     13.8583  14.5     33.      65.      16.      12.275\n",
      "  27.      15.      13.7917  12.35    10.7083  41.5792  12.      12.875\n",
      "  15.0458  37.0042  15.5792  19.5     14.       9.6875  30.0708  13.8625\n",
      "  15.05    12.7375  15.0333  18.75    12.65    15.75     7.55    20.25\n",
      "   7.65     7.925    7.2292   7.25     8.05     9.475    9.35    18.7875\n",
      "   7.8875   7.05     8.3     22.525    7.8542  31.275    7.775    7.7958\n",
      "   7.8958  17.8     31.3875   7.225   14.4583  15.85    19.2583  14.4542\n",
      "   7.8792   4.0125  56.4958   7.75    15.2458  15.5     16.1      7.725\n",
      "   7.0458   7.2833   7.8208   6.75     8.6625   7.7333   7.4958   7.6292\n",
      "  15.9      8.1583  10.5167  10.1708   6.95    14.4     24.15    17.4\n",
      "   9.5     20.575   12.475   13.9      6.975   15.1     34.375    7.7417\n",
      "  20.525    7.85    46.9      8.3625   9.8458   8.85    19.9667  14.1083\n",
      "   6.8583   8.9625  12.2875   6.45     7.0542   8.1125   6.4958   8.6542\n",
      "  11.1333  23.45     9.825    7.125    8.4333   7.5208  13.4167   7.8292\n",
      "   7.7375  22.025   12.1833   9.5875   9.4833  25.4667   6.4375  15.55\n",
      "   7.5792   7.1417  23.25     7.7875   8.0292   8.4583  15.7417  11.2417\n",
      "   7.8      6.2375   9.225    3.1708   8.4042   7.3125   9.2167   8.6833\n",
      "  21.075   39.6875   8.7125  13.775    7.      22.3583   8.1375  29.125\n",
      "   7.7208  20.2125   7.7292   7.575   69.55     9.325   21.6792  16.7\n",
      "   7.7792  27.9     -1.       9.8375  10.4625   8.5167   9.8417   9.\n",
      "  18.       7.875 ]\n",
      "embarked ['S' 'C' -1 'Q']\n"
     ]
    }
   ],
   "source": [
    "# unikalne wartości w kolumnach\n",
    "for col in df_titanic.columns:\n",
    "    print(col, df_titanic[col].unique())"
   ]
  },
  {
   "cell_type": "markdown",
   "metadata": {
    "id": "AGb5nobZHyDg"
   },
   "source": [
    "Rysowanie wykresów bezpośednio z tabel."
   ]
  },
  {
   "cell_type": "code",
   "execution_count": 158,
   "metadata": {
    "id": "cBKwxQp1HvFW"
   },
   "outputs": [
    {
     "data": {
      "image/png": "[encoded data removed]",
      "text/plain": [
       "<Figure size 432x288 with 1 Axes>"
      ]
     },
     "metadata": {
      "needs_background": "light"
     },
     "output_type": "display_data"
    }
   ],
   "source": [
    "import matplotlib.pyplot as plt\n",
    "# rozkład wieku\n",
    "df_titanic['age'].hist()  # pik w -1 to nasze brakujące dane\n",
    "plt.show()"
   ]
  },
  {
   "cell_type": "code",
   "execution_count": 159,
   "metadata": {
    "id": "9RMp-CB8HvXr"
   },
   "outputs": [
    {
     "data": {
      "image/png": "[encoded data removed]",
      "text/plain": [
       "<Figure size 432x288 with 1 Axes>"
      ]
     },
     "metadata": {
      "needs_background": "light"
     },
     "output_type": "display_data"
    }
   ],
   "source": [
    "# bar plot z dwóch kolumn\n",
    "ct = pd.crosstab(df_titanic['pclass'], df_titanic['survived'])\n",
    "ct.plot(kind='bar')\n",
    "plt.show()"
   ]
  },
  {
   "cell_type": "markdown",
   "metadata": {
    "id": "qmxEqbQpH8ef"
   },
   "source": [
    "Na danych w postaci obiektów `DataFrame` można wykonywać bardzo dużo przeróżnych operacji jak również pracować z nimi jak z tabelami w bazach danych (zapytania SQL). Więcej w dokumentacji."
   ]
  },
  {
   "cell_type": "markdown",
   "metadata": {
    "id": "Tq3msrpkKOPh"
   },
   "source": [
    "__Przedstawione wyżej przykłady to tylko bardzo niewielki przykład możliwości modułów numpy, scipy, matplotlib oraz pandas. Zachęcam do poczytania (przeglądnięcia) dokumentacji tych modułów__"
   ]
  },
  {
   "cell_type": "markdown",
   "metadata": {
    "id": "EPKpLTxUIK_c"
   },
   "source": [
    "## Zadanie 1:\n",
    "Napisz funkcję wyliczającą macierz odległości (euklidesowych) dla podanego zbioru wektorów. Funkcja powinna działać dla dowolnej liczby wektorów oraz dowolnego wymiaru tych wektorów.\n",
    "\n",
    "Macierz odległości $M = [m_{ij}]$, gdzie $m_{ij}$ to odległość Euklidesa między $i$-tym a $j$-tym wektorem.  \n",
    "\n",
    "Funkcję tą napisz w dwóch wersjach. Jedną z użyciem pakietu `numpy`, a drugą bez (czysty Python). Porównaj czasy ich działania dla losowych danych wejściowych. Do pomiaru czasu można wykorzystać moduł `time` lub dostępną w notatniku metodę magiczną `%%timeit` (http://ipython.readthedocs.io/en/stable/interactive/magics.html).\n",
    "\n",
    "Dla wersji z użyciem pakietu `numpy` spróbuj napisać tą funkcję tak aby uniknąć wykorzystywania pętli `for` (dodatkowe punkty)."
   ]
  },
  {
   "cell_type": "code",
   "execution_count": 217,
   "metadata": {
    "id": "WppZ83pwHvQW"
   },
   "outputs": [
    {
     "name": "stderr",
     "output_type": "stream",
     "text": [
      "IOPub data rate exceeded.\n",
      "The notebook server will temporarily stop sending output\n",
      "to the client in order to avoid crashing it.\n",
      "To change this limit, set the config variable\n",
      "`--NotebookApp.iopub_data_rate_limit`.\n",
      "\n",
      "Current values:\n",
      "NotebookApp.iopub_data_rate_limit=1000000.0 (bytes/sec)\n",
      "NotebookApp.rate_limit_window=3.0 (secs)\n",
      "\n"
     ]
    }
   ],
   "source": [
    "import numpy as np\n",
    "import random\n",
    "import time\n",
    "\n",
    "# Dane wejściowe:\n",
    "m = 1000  # liczba wektorów\n",
    "n = 300  # wymiar wektora\n",
    "wektory = [[random.random() for _ in range(n)] for _ in range(m)]\n",
    "\n",
    "### YOUR CODE HERE\n",
    "print(wektory)"
   ]
  },
  {
   "cell_type": "markdown",
   "metadata": {
    "id": "-5kSuw6fIVAV"
   },
   "source": [
    "## Zadanie 2:\n",
    "Korzystając z pakietu `scipy.optimize` znajdź minimum poniższej funkcji\n",
    "$$ F(x,y)=\\frac{1}{f}\\left(-a\\exp{[-b\\sqrt{\\frac{1}{n}(x^2+y^2)}]}-\\exp{[\\frac{1}{n}(\\cos(cx)+\\cos(cy))]}+a+\\exp(1)+d \\right) $$\n",
    "dla $a=20, b=0.2, c=2\\pi, d=5.7, f=0.8, n=2$ oraz przy ograniczniach $x,y\\in[-1.5,1.5]$.\n",
    "\n",
    "Wypróbuj różne punkty startowe, czy zawsze dostajesz ten sam wyniki?, dalczego?."
   ]
  },
  {
   "cell_type": "code",
   "execution_count": 188,
   "metadata": {
    "id": "uYgL6smCIUcK"
   },
   "outputs": [
    {
     "ename": "TypeError",
     "evalue": "only size-1 arrays can be converted to Python scalars",
     "output_type": "error",
     "traceback": [
      "\u001b[1;31m---------------------------------------------------------------------------\u001b[0m",
      "\u001b[1;31mTypeError\u001b[0m                                 Traceback (most recent call last)",
      "\u001b[1;32m~\\AppData\\Local\\Temp/ipykernel_4072/1233619208.py\u001b[0m in \u001b[0;36m<module>\u001b[1;34m\u001b[0m\n\u001b[0;32m      8\u001b[0m \u001b[0mx0\u001b[0m \u001b[1;33m=\u001b[0m \u001b[1;33m[\u001b[0m\u001b[1;36m1\u001b[0m\u001b[1;33m,\u001b[0m \u001b[1;36m1\u001b[0m\u001b[1;33m]\u001b[0m\u001b[1;33m\u001b[0m\u001b[1;33m\u001b[0m\u001b[0m\n\u001b[0;32m      9\u001b[0m \u001b[1;33m\u001b[0m\u001b[0m\n\u001b[1;32m---> 10\u001b[1;33m \u001b[0mres\u001b[0m \u001b[1;33m=\u001b[0m \u001b[0mminimize\u001b[0m\u001b[1;33m(\u001b[0m\u001b[0mfunc\u001b[0m\u001b[1;33m,\u001b[0m \u001b[0mx0\u001b[0m\u001b[1;33m)\u001b[0m\u001b[1;33m\u001b[0m\u001b[1;33m\u001b[0m\u001b[0m\n\u001b[0m\u001b[0;32m     11\u001b[0m \u001b[0mprint\u001b[0m\u001b[1;33m(\u001b[0m\u001b[1;34m'punkt minimum:'\u001b[0m\u001b[1;33m,\u001b[0m \u001b[0mres\u001b[0m\u001b[1;33m.\u001b[0m\u001b[0mx\u001b[0m\u001b[1;33m)\u001b[0m\u001b[1;33m\u001b[0m\u001b[1;33m\u001b[0m\u001b[0m\n\u001b[0;32m     12\u001b[0m \u001b[0mprint\u001b[0m\u001b[1;33m(\u001b[0m\u001b[1;34m'wartośc minimum:'\u001b[0m\u001b[1;33m,\u001b[0m \u001b[0mres\u001b[0m\u001b[1;33m.\u001b[0m\u001b[0mfun\u001b[0m\u001b[1;33m)\u001b[0m\u001b[1;33m\u001b[0m\u001b[1;33m\u001b[0m\u001b[0m\n",
      "\u001b[1;32m~\\anaconda3\\lib\\site-packages\\scipy\\optimize\\_minimize.py\u001b[0m in \u001b[0;36mminimize\u001b[1;34m(fun, x0, args, method, jac, hess, hessp, bounds, constraints, tol, callback, options)\u001b[0m\n\u001b[0;32m    616\u001b[0m         \u001b[1;32mreturn\u001b[0m \u001b[0m_minimize_cg\u001b[0m\u001b[1;33m(\u001b[0m\u001b[0mfun\u001b[0m\u001b[1;33m,\u001b[0m \u001b[0mx0\u001b[0m\u001b[1;33m,\u001b[0m \u001b[0margs\u001b[0m\u001b[1;33m,\u001b[0m \u001b[0mjac\u001b[0m\u001b[1;33m,\u001b[0m \u001b[0mcallback\u001b[0m\u001b[1;33m,\u001b[0m \u001b[1;33m**\u001b[0m\u001b[0moptions\u001b[0m\u001b[1;33m)\u001b[0m\u001b[1;33m\u001b[0m\u001b[1;33m\u001b[0m\u001b[0m\n\u001b[0;32m    617\u001b[0m     \u001b[1;32melif\u001b[0m \u001b[0mmeth\u001b[0m \u001b[1;33m==\u001b[0m \u001b[1;34m'bfgs'\u001b[0m\u001b[1;33m:\u001b[0m\u001b[1;33m\u001b[0m\u001b[1;33m\u001b[0m\u001b[0m\n\u001b[1;32m--> 618\u001b[1;33m         \u001b[1;32mreturn\u001b[0m \u001b[0m_minimize_bfgs\u001b[0m\u001b[1;33m(\u001b[0m\u001b[0mfun\u001b[0m\u001b[1;33m,\u001b[0m \u001b[0mx0\u001b[0m\u001b[1;33m,\u001b[0m \u001b[0margs\u001b[0m\u001b[1;33m,\u001b[0m \u001b[0mjac\u001b[0m\u001b[1;33m,\u001b[0m \u001b[0mcallback\u001b[0m\u001b[1;33m,\u001b[0m \u001b[1;33m**\u001b[0m\u001b[0moptions\u001b[0m\u001b[1;33m)\u001b[0m\u001b[1;33m\u001b[0m\u001b[1;33m\u001b[0m\u001b[0m\n\u001b[0m\u001b[0;32m    619\u001b[0m     \u001b[1;32melif\u001b[0m \u001b[0mmeth\u001b[0m \u001b[1;33m==\u001b[0m \u001b[1;34m'newton-cg'\u001b[0m\u001b[1;33m:\u001b[0m\u001b[1;33m\u001b[0m\u001b[1;33m\u001b[0m\u001b[0m\n\u001b[0;32m    620\u001b[0m         return _minimize_newtoncg(fun, x0, args, jac, hess, hessp, callback,\n",
      "\u001b[1;32m~\\anaconda3\\lib\\site-packages\\scipy\\optimize\\optimize.py\u001b[0m in \u001b[0;36m_minimize_bfgs\u001b[1;34m(fun, x0, args, jac, callback, gtol, norm, eps, maxiter, disp, return_all, finite_diff_rel_step, **unknown_options)\u001b[0m\n\u001b[0;32m   1199\u001b[0m         \u001b[0mmaxiter\u001b[0m \u001b[1;33m=\u001b[0m \u001b[0mlen\u001b[0m\u001b[1;33m(\u001b[0m\u001b[0mx0\u001b[0m\u001b[1;33m)\u001b[0m \u001b[1;33m*\u001b[0m \u001b[1;36m200\u001b[0m\u001b[1;33m\u001b[0m\u001b[1;33m\u001b[0m\u001b[0m\n\u001b[0;32m   1200\u001b[0m \u001b[1;33m\u001b[0m\u001b[0m\n\u001b[1;32m-> 1201\u001b[1;33m     sf = _prepare_scalar_function(fun, x0, jac, args=args, epsilon=eps,\n\u001b[0m\u001b[0;32m   1202\u001b[0m                                   finite_diff_rel_step=finite_diff_rel_step)\n\u001b[0;32m   1203\u001b[0m \u001b[1;33m\u001b[0m\u001b[0m\n",
      "\u001b[1;32m~\\anaconda3\\lib\\site-packages\\scipy\\optimize\\optimize.py\u001b[0m in \u001b[0;36m_prepare_scalar_function\u001b[1;34m(fun, x0, jac, args, bounds, epsilon, finite_diff_rel_step, hess)\u001b[0m\n\u001b[0;32m    259\u001b[0m     \u001b[1;31m# ScalarFunction caches. Reuse of fun(x) during grad\u001b[0m\u001b[1;33m\u001b[0m\u001b[1;33m\u001b[0m\u001b[0m\n\u001b[0;32m    260\u001b[0m     \u001b[1;31m# calculation reduces overall function evaluations.\u001b[0m\u001b[1;33m\u001b[0m\u001b[1;33m\u001b[0m\u001b[0m\n\u001b[1;32m--> 261\u001b[1;33m     sf = ScalarFunction(fun, x0, args, grad, hess,\n\u001b[0m\u001b[0;32m    262\u001b[0m                         finite_diff_rel_step, bounds, epsilon=epsilon)\n\u001b[0;32m    263\u001b[0m \u001b[1;33m\u001b[0m\u001b[0m\n",
      "\u001b[1;32m~\\anaconda3\\lib\\site-packages\\scipy\\optimize\\_differentiable_functions.py\u001b[0m in \u001b[0;36m__init__\u001b[1;34m(self, fun, x0, args, grad, hess, finite_diff_rel_step, finite_diff_bounds, epsilon)\u001b[0m\n\u001b[0;32m    138\u001b[0m \u001b[1;33m\u001b[0m\u001b[0m\n\u001b[0;32m    139\u001b[0m         \u001b[0mself\u001b[0m\u001b[1;33m.\u001b[0m\u001b[0m_update_fun_impl\u001b[0m \u001b[1;33m=\u001b[0m \u001b[0mupdate_fun\u001b[0m\u001b[1;33m\u001b[0m\u001b[1;33m\u001b[0m\u001b[0m\n\u001b[1;32m--> 140\u001b[1;33m         \u001b[0mself\u001b[0m\u001b[1;33m.\u001b[0m\u001b[0m_update_fun\u001b[0m\u001b[1;33m(\u001b[0m\u001b[1;33m)\u001b[0m\u001b[1;33m\u001b[0m\u001b[1;33m\u001b[0m\u001b[0m\n\u001b[0m\u001b[0;32m    141\u001b[0m \u001b[1;33m\u001b[0m\u001b[0m\n\u001b[0;32m    142\u001b[0m         \u001b[1;31m# Gradient evaluation\u001b[0m\u001b[1;33m\u001b[0m\u001b[1;33m\u001b[0m\u001b[0m\n",
      "\u001b[1;32m~\\anaconda3\\lib\\site-packages\\scipy\\optimize\\_differentiable_functions.py\u001b[0m in \u001b[0;36m_update_fun\u001b[1;34m(self)\u001b[0m\n\u001b[0;32m    231\u001b[0m     \u001b[1;32mdef\u001b[0m \u001b[0m_update_fun\u001b[0m\u001b[1;33m(\u001b[0m\u001b[0mself\u001b[0m\u001b[1;33m)\u001b[0m\u001b[1;33m:\u001b[0m\u001b[1;33m\u001b[0m\u001b[1;33m\u001b[0m\u001b[0m\n\u001b[0;32m    232\u001b[0m         \u001b[1;32mif\u001b[0m \u001b[1;32mnot\u001b[0m \u001b[0mself\u001b[0m\u001b[1;33m.\u001b[0m\u001b[0mf_updated\u001b[0m\u001b[1;33m:\u001b[0m\u001b[1;33m\u001b[0m\u001b[1;33m\u001b[0m\u001b[0m\n\u001b[1;32m--> 233\u001b[1;33m             \u001b[0mself\u001b[0m\u001b[1;33m.\u001b[0m\u001b[0m_update_fun_impl\u001b[0m\u001b[1;33m(\u001b[0m\u001b[1;33m)\u001b[0m\u001b[1;33m\u001b[0m\u001b[1;33m\u001b[0m\u001b[0m\n\u001b[0m\u001b[0;32m    234\u001b[0m             \u001b[0mself\u001b[0m\u001b[1;33m.\u001b[0m\u001b[0mf_updated\u001b[0m \u001b[1;33m=\u001b[0m \u001b[1;32mTrue\u001b[0m\u001b[1;33m\u001b[0m\u001b[1;33m\u001b[0m\u001b[0m\n\u001b[0;32m    235\u001b[0m \u001b[1;33m\u001b[0m\u001b[0m\n",
      "\u001b[1;32m~\\anaconda3\\lib\\site-packages\\scipy\\optimize\\_differentiable_functions.py\u001b[0m in \u001b[0;36mupdate_fun\u001b[1;34m()\u001b[0m\n\u001b[0;32m    135\u001b[0m \u001b[1;33m\u001b[0m\u001b[0m\n\u001b[0;32m    136\u001b[0m         \u001b[1;32mdef\u001b[0m \u001b[0mupdate_fun\u001b[0m\u001b[1;33m(\u001b[0m\u001b[1;33m)\u001b[0m\u001b[1;33m:\u001b[0m\u001b[1;33m\u001b[0m\u001b[1;33m\u001b[0m\u001b[0m\n\u001b[1;32m--> 137\u001b[1;33m             \u001b[0mself\u001b[0m\u001b[1;33m.\u001b[0m\u001b[0mf\u001b[0m \u001b[1;33m=\u001b[0m \u001b[0mfun_wrapped\u001b[0m\u001b[1;33m(\u001b[0m\u001b[0mself\u001b[0m\u001b[1;33m.\u001b[0m\u001b[0mx\u001b[0m\u001b[1;33m)\u001b[0m\u001b[1;33m\u001b[0m\u001b[1;33m\u001b[0m\u001b[0m\n\u001b[0m\u001b[0;32m    138\u001b[0m \u001b[1;33m\u001b[0m\u001b[0m\n\u001b[0;32m    139\u001b[0m         \u001b[0mself\u001b[0m\u001b[1;33m.\u001b[0m\u001b[0m_update_fun_impl\u001b[0m \u001b[1;33m=\u001b[0m \u001b[0mupdate_fun\u001b[0m\u001b[1;33m\u001b[0m\u001b[1;33m\u001b[0m\u001b[0m\n",
      "\u001b[1;32m~\\anaconda3\\lib\\site-packages\\scipy\\optimize\\_differentiable_functions.py\u001b[0m in \u001b[0;36mfun_wrapped\u001b[1;34m(x)\u001b[0m\n\u001b[0;32m    132\u001b[0m             \u001b[1;31m# Overwriting results in undefined behaviour because\u001b[0m\u001b[1;33m\u001b[0m\u001b[1;33m\u001b[0m\u001b[0m\n\u001b[0;32m    133\u001b[0m             \u001b[1;31m# fun(self.x) will change self.x, with the two no longer linked.\u001b[0m\u001b[1;33m\u001b[0m\u001b[1;33m\u001b[0m\u001b[0m\n\u001b[1;32m--> 134\u001b[1;33m             \u001b[1;32mreturn\u001b[0m \u001b[0mfun\u001b[0m\u001b[1;33m(\u001b[0m\u001b[0mnp\u001b[0m\u001b[1;33m.\u001b[0m\u001b[0mcopy\u001b[0m\u001b[1;33m(\u001b[0m\u001b[0mx\u001b[0m\u001b[1;33m)\u001b[0m\u001b[1;33m,\u001b[0m \u001b[1;33m*\u001b[0m\u001b[0margs\u001b[0m\u001b[1;33m)\u001b[0m\u001b[1;33m\u001b[0m\u001b[1;33m\u001b[0m\u001b[0m\n\u001b[0m\u001b[0;32m    135\u001b[0m \u001b[1;33m\u001b[0m\u001b[0m\n\u001b[0;32m    136\u001b[0m         \u001b[1;32mdef\u001b[0m \u001b[0mupdate_fun\u001b[0m\u001b[1;33m(\u001b[0m\u001b[1;33m)\u001b[0m\u001b[1;33m:\u001b[0m\u001b[1;33m\u001b[0m\u001b[1;33m\u001b[0m\u001b[0m\n",
      "\u001b[1;32m~\\AppData\\Local\\Temp/ipykernel_4072/1233619208.py\u001b[0m in \u001b[0;36mfunc\u001b[1;34m(x, y, a, b, c, d, f, n)\u001b[0m\n\u001b[0;32m      5\u001b[0m \u001b[1;31m### YOUR CODE HERE\u001b[0m\u001b[1;33m\u001b[0m\u001b[1;33m\u001b[0m\u001b[0m\n\u001b[0;32m      6\u001b[0m \u001b[1;32mdef\u001b[0m \u001b[0mfunc\u001b[0m\u001b[1;33m(\u001b[0m\u001b[0mx\u001b[0m\u001b[1;33m,\u001b[0m \u001b[0my\u001b[0m \u001b[1;33m=\u001b[0m\u001b[1;36m1\u001b[0m\u001b[1;33m,\u001b[0m \u001b[0ma\u001b[0m \u001b[1;33m=\u001b[0m \u001b[1;36m20\u001b[0m\u001b[1;33m,\u001b[0m \u001b[0mb\u001b[0m \u001b[1;33m=\u001b[0m \u001b[1;36m0.2\u001b[0m\u001b[1;33m,\u001b[0m \u001b[0mc\u001b[0m \u001b[1;33m=\u001b[0m \u001b[1;36m2\u001b[0m \u001b[1;33m*\u001b[0m \u001b[0mm\u001b[0m\u001b[1;33m.\u001b[0m\u001b[0mpi\u001b[0m\u001b[1;33m,\u001b[0m \u001b[0md\u001b[0m \u001b[1;33m=\u001b[0m \u001b[1;36m5.7\u001b[0m\u001b[1;33m,\u001b[0m \u001b[0mf\u001b[0m \u001b[1;33m=\u001b[0m \u001b[1;36m0.8\u001b[0m\u001b[1;33m,\u001b[0m \u001b[0mn\u001b[0m \u001b[1;33m=\u001b[0m \u001b[1;36m2\u001b[0m\u001b[1;33m)\u001b[0m\u001b[1;33m:\u001b[0m\u001b[1;33m\u001b[0m\u001b[1;33m\u001b[0m\u001b[0m\n\u001b[1;32m----> 7\u001b[1;33m     \u001b[1;32mreturn\u001b[0m \u001b[1;33m(\u001b[0m\u001b[1;36m1\u001b[0m\u001b[1;33m/\u001b[0m\u001b[0mf\u001b[0m\u001b[1;33m)\u001b[0m\u001b[1;33m*\u001b[0m\u001b[1;33m(\u001b[0m\u001b[1;33m-\u001b[0m\u001b[0ma\u001b[0m\u001b[1;33m*\u001b[0m\u001b[0mm\u001b[0m\u001b[1;33m.\u001b[0m\u001b[0mexp\u001b[0m\u001b[1;33m(\u001b[0m\u001b[1;33m-\u001b[0m\u001b[0mb\u001b[0m\u001b[1;33m*\u001b[0m\u001b[0mm\u001b[0m\u001b[1;33m.\u001b[0m\u001b[0msqrt\u001b[0m\u001b[1;33m(\u001b[0m\u001b[1;33m(\u001b[0m\u001b[1;36m1\u001b[0m\u001b[1;33m/\u001b[0m\u001b[0mn\u001b[0m\u001b[1;33m)\u001b[0m\u001b[1;33m*\u001b[0m\u001b[1;33m(\u001b[0m\u001b[0mx\u001b[0m\u001b[1;33m*\u001b[0m\u001b[0mx\u001b[0m\u001b[1;33m+\u001b[0m\u001b[0my\u001b[0m\u001b[1;33m*\u001b[0m\u001b[0my\u001b[0m\u001b[1;33m)\u001b[0m\u001b[1;33m)\u001b[0m\u001b[1;33m)\u001b[0m\u001b[1;33m-\u001b[0m\u001b[0mm\u001b[0m\u001b[1;33m.\u001b[0m\u001b[0mexp\u001b[0m\u001b[1;33m(\u001b[0m\u001b[1;33m(\u001b[0m\u001b[1;36m1\u001b[0m\u001b[1;33m/\u001b[0m\u001b[0mn\u001b[0m\u001b[1;33m)\u001b[0m\u001b[1;33m*\u001b[0m\u001b[1;33m(\u001b[0m\u001b[0mm\u001b[0m\u001b[1;33m.\u001b[0m\u001b[0mcos\u001b[0m\u001b[1;33m(\u001b[0m\u001b[0mc\u001b[0m\u001b[1;33m*\u001b[0m\u001b[0mx\u001b[0m\u001b[1;33m)\u001b[0m\u001b[1;33m+\u001b[0m\u001b[0mm\u001b[0m\u001b[1;33m.\u001b[0m\u001b[0mcos\u001b[0m\u001b[1;33m(\u001b[0m\u001b[0mc\u001b[0m\u001b[1;33m*\u001b[0m\u001b[0my\u001b[0m\u001b[1;33m)\u001b[0m\u001b[1;33m)\u001b[0m\u001b[1;33m)\u001b[0m\u001b[1;33m+\u001b[0m\u001b[0ma\u001b[0m\u001b[1;33m+\u001b[0m\u001b[0mm\u001b[0m\u001b[1;33m.\u001b[0m\u001b[0mexp\u001b[0m\u001b[1;33m(\u001b[0m\u001b[1;36m1\u001b[0m\u001b[1;33m)\u001b[0m\u001b[1;33m+\u001b[0m\u001b[0md\u001b[0m\u001b[1;33m)\u001b[0m\u001b[1;33m\u001b[0m\u001b[1;33m\u001b[0m\u001b[0m\n\u001b[0m\u001b[0;32m      8\u001b[0m \u001b[0mx0\u001b[0m \u001b[1;33m=\u001b[0m \u001b[1;33m[\u001b[0m\u001b[1;36m1\u001b[0m\u001b[1;33m,\u001b[0m \u001b[1;36m1\u001b[0m\u001b[1;33m]\u001b[0m\u001b[1;33m\u001b[0m\u001b[1;33m\u001b[0m\u001b[0m\n\u001b[0;32m      9\u001b[0m \u001b[1;33m\u001b[0m\u001b[0m\n",
      "\u001b[1;31mTypeError\u001b[0m: only size-1 arrays can be converted to Python scalars"
     ]
    }
   ],
   "source": [
    "import numpy as np\n",
    "import math as m\n",
    "from scipy.optimize import minimize\n",
    "\n",
    "### YOUR CODE HERE\n",
    "def func(x, y =1, a = 20, b = 0.2, c = 2 * m.pi, d = 5.7, f = 0.8, n = 2):\n",
    "    return (1/f)*(-a*m.exp(-b*m.sqrt((1/n)*(x*x+y*y)))-m.exp((1/n)*(m.cos(c*x)+m.cos(c*y)))+a+m.exp(1)+d)\n",
    "x0 = [1, 1]\n",
    "\n",
    "res = minimize(func, x0)\n",
    "print('punkt minimum:', res.x)\n",
    "print('wartośc minimum:', res.fun)"
   ]
  },
  {
   "cell_type": "markdown",
   "metadata": {
    "id": "U1RaGYUJKTou"
   },
   "source": [
    "## Zadanie 3:\n",
    "Korzystając z pakietu `matplotlib` narysuj wykres funkcji z zadania 2."
   ]
  },
  {
   "cell_type": "code",
   "execution_count": 226,
   "metadata": {
    "id": "umuL4hNsIUW0"
   },
   "outputs": [
    {
     "data": {
      "image/png": "[encoded data removed]",
      "text/plain": [
       "<Figure size 432x288 with 1 Axes>"
      ]
     },
     "metadata": {
      "needs_background": "light"
     },
     "output_type": "display_data"
    }
   ],
   "source": [
    "import numpy as np\n",
    "from mpl_toolkits.mplot3d import axes3d\n",
    "import matplotlib.pyplot as plt\n",
    "\n",
    "### YOUR CODE HERE\n",
    "\n",
    "# przykładowe dane\n",
    "x = np.linspace(-1.5, 1.5, 20)\n",
    "y = np.sin(x)\n",
    "\n",
    "# tworzenie rysunku\n",
    "fig, ax = plt.subplots()\n",
    "# rysowanie wykresu\n",
    "ax.plot(x, y, c='r', linestyle='-.', label='func(x,y)') #wiele innych opcji patrz w dokumentacji\n",
    "ax.legend() # dla legendy mozna ustalic pozycje podając argument 0,1,2,3 lub 4\n",
    "ax.set_title('Sin(x)')\n",
    "ax.set_xlabel('x')\n",
    "ax.set_ylabel('y')\n",
    "ax.set_xlim(-1.5,1.5)\n",
    "ax.set_ylim(-10,10)\n",
    "ax.grid(True)\n",
    "\n",
    "plt.show()"
   ]
  },
  {
   "cell_type": "markdown",
   "metadata": {
    "id": "C57dALyNj4Se"
   },
   "source": [
    "&copy; Katedra Informatyki, Politechnika Krakowska"
   ]
  }
 ],
 "metadata": {
  "colab": {
   "authorship_tag": "ABX9TyNHTE70GJM5ehUKDvOUyQ/O",
   "collapsed_sections": [],
   "name": "Python_Lab_2.ipynb",
   "provenance": []
  },
  "kernelspec": {
   "display_name": "Python 3 (ipykernel)",
   "language": "python",
   "name": "python3"
  },
  "language_info": {
   "codemirror_mode": {
    "name": "ipython",
    "version": 3
   },
   "file_extension": ".py",
   "mimetype": "text/x-python",
   "name": "python",
   "nbconvert_exporter": "python",
   "pygments_lexer": "ipython3",
   "version": "3.9.7"
  }
 },
 "nbformat": 4,
 "nbformat_minor": 1
}
